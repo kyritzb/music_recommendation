{
  "nbformat": 4,
  "nbformat_minor": 0,
  "metadata": {
    "colab": {
      "provenance": []
    },
    "kernelspec": {
      "name": "python3",
      "display_name": "Python 3"
    },
    "language_info": {
      "name": "python"
    }
  },
  "cells": [
    {
      "cell_type": "code",
      "source": [
        "pip install surprise"
      ],
      "metadata": {
        "colab": {
          "base_uri": "https://localhost:8080/"
        },
        "id": "ik6oCSUOko66",
        "outputId": "c20d31dc-b147-488e-f31a-ee9bf7e34a3d"
      },
      "execution_count": 3,
      "outputs": [
        {
          "output_type": "stream",
          "name": "stdout",
          "text": [
            "Looking in indexes: https://pypi.org/simple, https://us-python.pkg.dev/colab-wheels/public/simple/\n",
            "Collecting surprise\n",
            "  Downloading surprise-0.1-py2.py3-none-any.whl (1.8 kB)\n",
            "Collecting scikit-surprise\n",
            "  Downloading scikit-surprise-1.1.3.tar.gz (771 kB)\n",
            "\u001b[2K     \u001b[90m━━━━━━━━━━━━━━━━━━━━━━━━━━━━━━━━━━━━━━\u001b[0m \u001b[32m772.0/772.0 kB\u001b[0m \u001b[31m14.1 MB/s\u001b[0m eta \u001b[36m0:00:00\u001b[0m\n",
            "\u001b[?25h  Preparing metadata (setup.py) ... \u001b[?25l\u001b[?25hdone\n",
            "Requirement already satisfied: joblib>=1.0.0 in /usr/local/lib/python3.9/dist-packages (from scikit-surprise->surprise) (1.2.0)\n",
            "Requirement already satisfied: numpy>=1.17.3 in /usr/local/lib/python3.9/dist-packages (from scikit-surprise->surprise) (1.22.4)\n",
            "Requirement already satisfied: scipy>=1.3.2 in /usr/local/lib/python3.9/dist-packages (from scikit-surprise->surprise) (1.10.1)\n",
            "Building wheels for collected packages: scikit-surprise\n",
            "  Building wheel for scikit-surprise (setup.py) ... \u001b[?25l\u001b[?25hdone\n",
            "  Created wheel for scikit-surprise: filename=scikit_surprise-1.1.3-cp39-cp39-linux_x86_64.whl size=3195783 sha256=b373f4f1e4286cc84d1bcef581797df7f4a5f4c98467f4cc3744d308c1f72aed\n",
            "  Stored in directory: /root/.cache/pip/wheels/c6/3a/46/9b17b3512bdf283c6cb84f59929cdd5199d4e754d596d22784\n",
            "Successfully built scikit-surprise\n",
            "Installing collected packages: scikit-surprise, surprise\n",
            "Successfully installed scikit-surprise-1.1.3 surprise-0.1\n"
          ]
        }
      ]
    },
    {
      "cell_type": "code",
      "execution_count": 4,
      "metadata": {
        "colab": {
          "base_uri": "https://localhost:8080/"
        },
        "id": "4wqnSAzdYEBG",
        "outputId": "1e55514c-dd67-4f5e-f1dc-e9c51bcfd9b1"
      },
      "outputs": [
        {
          "output_type": "stream",
          "name": "stdout",
          "text": [
            "  user_id track_id album_id artist_id genre_1 genre_2 genre_3 genre_4 genre_5  \\\n",
            "0  199810   208019   209288      None    None    None    None    None    None   \n",
            "1  199810    74139   277282    271146  113360  173467  173655  192976  146792   \n",
            "2  199810     9903     None      None   33722  123396   79926   73523    None   \n",
            "3  199810   242681   190640    244574   61215   17453  274088    None    None   \n",
            "4  199810    18515   146344     33168   19913   48505  154024    None    None   \n",
            "\n",
            "  genre_6  ... genre_12 genre_13 genre_14 genre_15 genre_16 genre_17 genre_18  \\\n",
            "0    None  ...     None     None     None     None     None     None     None   \n",
            "1   48505  ...     None     None     None     None     None     None     None   \n",
            "2    None  ...     None     None     None     None     None     None     None   \n",
            "3    None  ...     None     None     None     None     None     None     None   \n",
            "4    None  ...     None     None     None     None     None     None     None   \n",
            "\n",
            "  genre_19 genre_20 genre_21  \n",
            "0     None     None     None  \n",
            "1     None     None     None  \n",
            "2     None     None     None  \n",
            "3     None     None     None  \n",
            "4     None     None     None  \n",
            "\n",
            "[5 rows x 25 columns]\n"
          ]
        }
      ],
      "source": [
        "import pandas as pd\n",
        "from surprise import Reader, Dataset, KNNWithMeans\n",
        "from surprise.model_selection import train_test_split\n",
        "from surprise.accuracy import rmse\n",
        "\n",
        "# Read training data\n",
        "train_data = pd.read_csv(\"trainIdx2_matrix.txt\", sep=\"|\", names=[\"user_id\", \"item_id\", \"rating\"])\n",
        "\n",
        "# Preprocess test data\n",
        "test_data = []\n",
        "with open(\"testTrack_hierarchy.txt\", \"r\") as file:\n",
        "    for line in file:\n",
        "        tokens = line.strip().split(\"|\")\n",
        "        user_id, track_id, album_id, artist_id = tokens[:4]\n",
        "        genres = tokens[4:]\n",
        "        row = [user_id, track_id, album_id, artist_id] + genres\n",
        "        test_data.append(row)\n",
        "\n",
        "# Convert the preprocessed data to a DataFrame\n",
        "column_names = [\"user_id\", \"track_id\", \"album_id\", \"artist_id\"] + [f\"genre_{i}\" for i in range(1, len(max(test_data, key=len)) - 3)]\n",
        "test_data = pd.DataFrame(test_data, columns=column_names)\n",
        "\n",
        "print(test_data.head())\n"
      ]
    },
    {
      "cell_type": "code",
      "source": [
        "# Convert user_id and track_id columns to integers\n",
        "test_data[\"user_id\"] = test_data[\"user_id\"].astype(int)\n",
        "test_data[\"track_id\"] = test_data[\"track_id\"].astype(int)\n",
        "\n",
        "# Prepare the data for Surprise\n",
        "reader = Reader(rating_scale=(0, 100))\n",
        "data = Dataset.load_from_df(train_data, reader)\n",
        "\n",
        "# Split the data into a training set and a test set\n",
        "trainset = data.build_full_trainset()"
      ],
      "metadata": {
        "id": "gfh9x3ImlMfe"
      },
      "execution_count": 5,
      "outputs": []
    },
    {
      "cell_type": "code",
      "source": [
        "# Create and train the collaborative filtering model\n",
        "algo = KNNWithMeans(k=40, sim_options={\"name\": \"pearson_baseline\", \"user_based\": True})\n",
        "algo.fit(trainset)\n",
        "\n",
        "# Make recommendations for test tracks\n",
        "test_data[\"recommended\"] = 0\n",
        "for index, row in test_data.iterrows():\n",
        "    user_id = row[\"user_id\"]\n",
        "    track_id = row[\"track_id\"]\n",
        "    prediction = algo.predict(user_id, track_id)\n",
        "    if prediction.est >= 50:  # Adjust the threshold for recommendations\n",
        "        test_data.at[index, \"recommended\"] = 1\n",
        "\n",
        "# Save results to a CSV file\n",
        "output = test_data[[\"user_id\", \"track_id\", \"recommended\"]]\n",
        "output[\"user_track\"] = output[\"user_id\"].astype(str) + \"_\" + output[\"track_id\"].astype(str)\n",
        "output[[\"user_track\", \"recommended\"]].to_csv(\"recommendations_surprise.csv\", index=False, header=[\"TrackID\", \"Predictor\"])"
      ],
      "metadata": {
        "colab": {
          "base_uri": "https://localhost:8080/"
        },
        "id": "fWHi9za6lPS5",
        "outputId": "8e78b8f4-37db-4540-f1ae-bedb26250fef"
      },
      "execution_count": null,
      "outputs": [
        {
          "output_type": "stream",
          "name": "stdout",
          "text": [
            "Estimating biases using als...\n"
          ]
        }
      ]
    }
  ]
}