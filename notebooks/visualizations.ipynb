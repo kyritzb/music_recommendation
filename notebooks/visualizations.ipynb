{
 "cells": [
  {
   "cell_type": "markdown",
   "metadata": {},
   "source": [
    "Training Data"
   ]
  },
  {
   "cell_type": "code",
   "execution_count": 1,
   "metadata": {},
   "outputs": [
    {
     "name": "stderr",
     "output_type": "stream",
     "text": [
      "your 131072x1 screen size is bogus. expect trouble\n",
      "23/05/04 17:21:35 WARN Utils: Your hostname, BryanDesktop resolves to a loopback address: 127.0.1.1; using 172.23.54.125 instead (on interface eth0)\n",
      "23/05/04 17:21:35 WARN Utils: Set SPARK_LOCAL_IP if you need to bind to another address\n",
      "Setting default log level to \"WARN\".\n",
      "To adjust logging level use sc.setLogLevel(newLevel). For SparkR, use setLogLevel(newLevel).\n",
      "23/05/04 17:21:36 WARN NativeCodeLoader: Unable to load native-hadoop library for your platform... using builtin-java classes where applicable\n",
      "                                                                                \r"
     ]
    },
    {
     "name": "stdout",
     "output_type": "stream",
     "text": [
      "root\n",
      " |-- trackId: integer (nullable = true)\n",
      " |-- albumId: integer (nullable = true)\n",
      " |-- artistId: integer (nullable = true)\n",
      " |-- userId: integer (nullable = true)\n",
      " |-- rating: integer (nullable = true)\n",
      " |-- genres: string (nullable = true)\n",
      "\n",
      "+-------+-------+--------+------+------+--------------------+\n",
      "|trackId|albumId|artistId|userId|rating|              genres|\n",
      "+-------+-------+--------+------+------+--------------------+\n",
      "| 204650| 177418|  131552|199810|    50|                  []|\n",
      "|   9774|  79500|  158282|199810|    50|['242383', '207648']|\n",
      "|   9774|  79500|  158282|199810|    50|['242383', '20764...|\n",
      "|  26374| 153568|  158282|199810|    50| ['81520', '242383']|\n",
      "| 271229| 293464|  279143|199811|    70| ['173655', '98154']|\n",
      "+-------+-------+--------+------+------+--------------------+\n",
      "only showing top 5 rows\n",
      "\n"
     ]
    }
   ],
   "source": [
    "from pyspark.sql.types import IntegerType\n",
    "from pyspark.sql import SparkSession\n",
    "from pyspark.sql.functions import split, col\n",
    "import pandas as pd\n",
    "\n",
    "data_dir = \"../data/proccessed/dump.csv\"\n",
    "spark = SparkSession.builder \\\n",
    "    .appName(\"recommend-ML\") \\\n",
    "    .config(\"spark.executor.memory\", \"4g\") \\\n",
    "    .config(\"spark.driver.memory\", \"4g\") \\\n",
    "    .getOrCreate()\n",
    "\n",
    "\n",
    "df = spark.read.csv(data_dir, header=True, inferSchema=True)\n",
    "cols = df.columns\n",
    "\n",
    "df = df.withColumn(\"albumId\", col(\"albumId\").cast(\"integer\"))\n",
    "df = df.withColumn(\"rating\", col(\"rating\").cast(\"integer\"))\n",
    "df = df.withColumn(\"userId\", col(\"userId\").cast(\"integer\"))\n",
    "\n",
    "df.printSchema()\n",
    "df.show(5)\n"
   ]
  },
  {
   "cell_type": "code",
   "execution_count": 2,
   "metadata": {},
   "outputs": [
    {
     "name": "stderr",
     "output_type": "stream",
     "text": [
      "23/05/04 17:21:54 WARN package: Truncated the string representation of a plan since it was too large. This behavior can be adjusted by setting 'spark.sql.debug.maxToStringFields'.\n",
      "                                                                                \r"
     ]
    },
    {
     "data": {
      "text/html": [
       "<div>\n",
       "<style scoped>\n",
       "    .dataframe tbody tr th:only-of-type {\n",
       "        vertical-align: middle;\n",
       "    }\n",
       "\n",
       "    .dataframe tbody tr th {\n",
       "        vertical-align: top;\n",
       "    }\n",
       "\n",
       "    .dataframe thead th {\n",
       "        text-align: right;\n",
       "    }\n",
       "</style>\n",
       "<table border=\"1\" class=\"dataframe\">\n",
       "  <thead>\n",
       "    <tr style=\"text-align: right;\">\n",
       "      <th></th>\n",
       "      <th>0</th>\n",
       "      <th>1</th>\n",
       "      <th>2</th>\n",
       "      <th>3</th>\n",
       "      <th>4</th>\n",
       "    </tr>\n",
       "  </thead>\n",
       "  <tbody>\n",
       "    <tr>\n",
       "      <th>summary</th>\n",
       "      <td>count</td>\n",
       "      <td>mean</td>\n",
       "      <td>stddev</td>\n",
       "      <td>min</td>\n",
       "      <td>max</td>\n",
       "    </tr>\n",
       "    <tr>\n",
       "      <th>trackId</th>\n",
       "      <td>22128002</td>\n",
       "      <td>149219.46026048803</td>\n",
       "      <td>85598.84864482612</td>\n",
       "      <td>0</td>\n",
       "      <td>296109</td>\n",
       "    </tr>\n",
       "    <tr>\n",
       "      <th>albumId</th>\n",
       "      <td>21403843</td>\n",
       "      <td>156785.60270129994</td>\n",
       "      <td>84586.80777255089</td>\n",
       "      <td>16</td>\n",
       "      <td>296041</td>\n",
       "    </tr>\n",
       "    <tr>\n",
       "      <th>artistId</th>\n",
       "      <td>21869416</td>\n",
       "      <td>122466.36533092607</td>\n",
       "      <td>72332.27048302873</td>\n",
       "      <td>3969</td>\n",
       "      <td>294310</td>\n",
       "    </tr>\n",
       "    <tr>\n",
       "      <th>userId</th>\n",
       "      <td>22128002</td>\n",
       "      <td>224471.76109763546</td>\n",
       "      <td>14358.394864188127</td>\n",
       "      <td>199810</td>\n",
       "      <td>249010</td>\n",
       "    </tr>\n",
       "    <tr>\n",
       "      <th>rating</th>\n",
       "      <td>22128002</td>\n",
       "      <td>47.00622907572044</td>\n",
       "      <td>37.19870677012383</td>\n",
       "      <td>0</td>\n",
       "      <td>100</td>\n",
       "    </tr>\n",
       "  </tbody>\n",
       "</table>\n",
       "</div>"
      ],
      "text/plain": [
       "                 0                   1                   2       3       4\n",
       "summary      count                mean              stddev     min     max\n",
       "trackId   22128002  149219.46026048803   85598.84864482612       0  296109\n",
       "albumId   21403843  156785.60270129994   84586.80777255089      16  296041\n",
       "artistId  21869416  122466.36533092607   72332.27048302873    3969  294310\n",
       "userId    22128002  224471.76109763546  14358.394864188127  199810  249010\n",
       "rating    22128002   47.00622907572044   37.19870677012383       0     100"
      ]
     },
     "execution_count": 2,
     "metadata": {},
     "output_type": "execute_result"
    }
   ],
   "source": [
    "numeric_features = [t[0] for t in df.dtypes if t[1] == 'int']\n",
    "df.select(numeric_features).describe().toPandas().transpose()"
   ]
  },
  {
   "cell_type": "code",
   "execution_count": 3,
   "metadata": {},
   "outputs": [
    {
     "name": "stderr",
     "output_type": "stream",
     "text": [
      "                                                                                \r"
     ]
    },
    {
     "data": {
      "image/png": "[encoded data removed]",
      "text/plain": [
       "<Figure size 800x800 with 25 Axes>"
      ]
     },
     "metadata": {},
     "output_type": "display_data"
    }
   ],
   "source": [
    "from pandas.plotting import scatter_matrix\n",
    "\n",
    "numeric_data = df.select(numeric_features).toPandas()\n",
    "axs = scatter_matrix(numeric_data, figsize=(8, 8))\n",
    "\n",
    "n = len(numeric_data.columns)\n",
    "for i in range(n):\n",
    "    v = axs[i, 0]\n",
    "    v.yaxis.label.set_rotation(0)\n",
    "    v.yaxis.label.set_ha('right')\n",
    "    v.set_yticks(())\n",
    "    h = axs[n-1, i]\n",
    "    h.xaxis.label.set_rotation(90)\n",
    "    h.set_xticks(())\n"
   ]
  }
 ],
 "metadata": {
  "interpreter": {
   "hash": "916dbcbb3f70747c44a77c7bcd40155683ae19c65e1c03b4aa3499c5328201f1"
  },
  "kernelspec": {
   "display_name": "Python 3.8.10 64-bit",
   "language": "python",
   "name": "python3"
  },
  "language_info": {
   "codemirror_mode": {
    "name": "ipython",
    "version": 3
   },
   "file_extension": ".py",
   "mimetype": "text/x-python",
   "name": "python",
   "nbconvert_exporter": "python",
   "pygments_lexer": "ipython3",
   "version": "3.8.10"
  },
  "orig_nbformat": 4
 },
 "nbformat": 4,
 "nbformat_minor": 2
}
