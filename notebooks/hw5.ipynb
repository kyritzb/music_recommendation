{
 "cells": [
  {
   "cell_type": "code",
   "execution_count": 8,
   "metadata": {},
   "outputs": [
    {
     "name": "stdout",
     "output_type": "stream",
     "text": [
      "Total:7044150.0\n",
      "Count: 120000\n",
      "Average: 58.70125\n"
     ]
    }
   ],
   "source": [
    "import numpy as np\n",
    "import csv\n",
    "from collections import defaultdict\n",
    "\n",
    "train_data = defaultdict(dict)\n",
    "\n",
    "with open(\"../data/trainIdx2_matrix.txt\", 'r') as fTrain:\n",
    "    for line in fTrain:\n",
    "        trainUserID, trainItemID, trainRating = line.strip().split('|')\n",
    "        train_data[trainUserID][trainItemID] = trainRating\n",
    "\n",
    "with open(\"../data/testTrack_hierarchy.txt\", 'r') as fTest, open(\"../data/proccessed/output1.csv\", 'w', newline='') as fOut:\n",
    "    csv_writer = csv.writer(fOut)\n",
    "    csv_writer.writerow([\"UserId\", \"TrackId\", \"AlbumId\", \"ArtistId\", \"TrackRating\",\n",
    "                         \"AlbumRating\", \"ArtistRating\", \"TotalScore\", \"Predictor\"])\n",
    "\n",
    "    trackID_vec = [0] * 6\n",
    "    albumID_vec = [0] * 6\n",
    "    artistID_vec = [0] * 6\n",
    "    lastUserID = -1\n",
    "    total_sum = 0\n",
    "    total_count = 0\n",
    "\n",
    "    for line in fTest:\n",
    "        userID, trackID, albumID, artistID, *_ = line.strip().split('|')\n",
    "\n",
    "\n",
    "        if userID != lastUserID:\n",
    "            ii = 0\n",
    "            user_rating_inTrain = np.zeros(shape=(6, 3))\n",
    "\n",
    "        trackID_vec[ii] = trackID\n",
    "        albumID_vec[ii] = albumID\n",
    "        artistID_vec[ii] = artistID\n",
    "        ii += 1\n",
    "        lastUserID = userID\n",
    "\n",
    "        if ii == 6:\n",
    "            user_train_data = train_data[userID]\n",
    "\n",
    "            for nn in range(6):\n",
    "                user_rating_inTrain[nn] = [user_train_data.get(trackID_vec[nn], 0),\n",
    "                                           user_train_data.get(\n",
    "                                               albumID_vec[nn], 0),\n",
    "                                           user_train_data.get(artistID_vec[nn], 0)]\n",
    "\n",
    "            for nn in range(6):\n",
    "                total_score = sum(user_rating_inTrain[nn])\n",
    "                total_sum += total_score\n",
    "                total_count += 1\n",
    "                prediction = int(total_sum / total_count > 58)\n",
    "\n",
    "                csv_writer.writerow([userID, trackID_vec[nn], albumID_vec[nn],\n",
    "                                    artistID_vec[nn], *user_rating_inTrain[nn], total_score, prediction])\n",
    "\n",
    "print(\"Total:\" + str(total_sum))\n",
    "print(\"Count: \" + str(total_count))\n",
    "print(\"Average: \" + str(total_sum/total_count))\n"
   ]
  }
 ],
 "metadata": {
  "interpreter": {
   "hash": "916dbcbb3f70747c44a77c7bcd40155683ae19c65e1c03b4aa3499c5328201f1"
  },
  "kernelspec": {
   "display_name": "Python 3.8.10 64-bit",
   "language": "python",
   "name": "python3"
  },
  "language_info": {
   "codemirror_mode": {
    "name": "ipython",
    "version": 3
   },
   "file_extension": ".py",
   "mimetype": "text/x-python",
   "name": "python",
   "nbconvert_exporter": "python",
   "pygments_lexer": "ipython3",
   "version": "3.8.10"
  },
  "orig_nbformat": 4
 },
 "nbformat": 4,
 "nbformat_minor": 2
}
