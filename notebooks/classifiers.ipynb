{
 "cells": [
  {
   "cell_type": "code",
   "execution_count": 13,
   "metadata": {},
   "outputs": [],
   "source": [
    "from pyspark.sql import SparkSession\n",
    "from pyspark.sql.functions import split, col\n",
    "from pyspark.ml.feature import StringIndexer, VectorAssembler\n",
    "from pyspark.ml import Pipeline\n",
    "import pandas as pd\n",
    "import matplotlib.pyplot as plt\n",
    "import numpy as np\n",
    "from sklearn.metrics import roc_curve, auc\n",
    "\n",
    "als_model_dir = \"../models/ALS\"\n",
    "\n",
    "spark = SparkSession.builder.appName('recommend-ML').getOrCreate()"
   ]
  },
  {
   "cell_type": "code",
   "execution_count": 3,
   "metadata": {},
   "outputs": [
    {
     "name": "stderr",
     "output_type": "stream",
     "text": [
      "                                                                                \r"
     ]
    },
    {
     "name": "stdout",
     "output_type": "stream",
     "text": [
      "root\n",
      " |-- trackId: integer (nullable = true)\n",
      " |-- albumId: integer (nullable = true)\n",
      " |-- artistId: integer (nullable = true)\n",
      " |-- userId: integer (nullable = true)\n",
      " |-- rating: integer (nullable = true)\n",
      " |-- genres: string (nullable = true)\n",
      "\n",
      "+-------+-------+--------+------+------+--------------------+\n",
      "|trackId|albumId|artistId|userId|rating|              genres|\n",
      "+-------+-------+--------+------+------+--------------------+\n",
      "| 204650| 177418|  131552|199810|    50|                  []|\n",
      "|   9774|  79500|  158282|199810|    50|['242383', '207648']|\n",
      "|   9774|  79500|  158282|199810|    50|['242383', '20764...|\n",
      "|  26374| 153568|  158282|199810|    50| ['81520', '242383']|\n",
      "| 271229| 293464|  279143|199811|    70| ['173655', '98154']|\n",
      "+-------+-------+--------+------+------+--------------------+\n",
      "only showing top 5 rows\n",
      "\n"
     ]
    }
   ],
   "source": [
    "data_dir = \"../data/proccessed/dump.csv\"\n",
    "\n",
    "df = spark.read.csv(data_dir, header=True, inferSchema=True)\n",
    "cols = df.columns\n",
    "\n",
    "df = df.withColumn(\"albumId\", col(\"albumId\").cast(\"integer\"))\n",
    "df = df.withColumn(\"rating\", col(\"rating\").cast(\"integer\"))\n",
    "df = df.withColumn(\"userId\", col(\"userId\").cast(\"integer\"))\n",
    "\n",
    "df.printSchema()\n",
    "df.show(5)\n"
   ]
  },
  {
   "cell_type": "code",
   "execution_count": 5,
   "metadata": {},
   "outputs": [
    {
     "name": "stderr",
     "output_type": "stream",
     "text": [
      "23/05/07 21:13:25 WARN MemoryStore: Not enough space to cache rdd_50_6 in memory! (computed 28.3 MiB so far)\n",
      "23/05/07 21:13:25 WARN BlockManager: Persisting block rdd_50_6 to disk instead.\n",
      "23/05/07 21:13:25 WARN MemoryStore: Not enough space to cache rdd_50_7 in memory! (computed 28.5 MiB so far)\n",
      "23/05/07 21:13:25 WARN BlockManager: Persisting block rdd_50_7 to disk instead.\n",
      "23/05/07 21:13:26 WARN MemoryStore: Not enough space to cache rdd_50_1 in memory! (computed 43.4 MiB so far)\n",
      "23/05/07 21:13:26 WARN BlockManager: Persisting block rdd_50_1 to disk instead.\n",
      "23/05/07 21:13:26 WARN MemoryStore: Not enough space to cache rdd_50_3 in memory! (computed 42.0 MiB so far)\n",
      "23/05/07 21:13:26 WARN BlockManager: Persisting block rdd_50_3 to disk instead.\n",
      "23/05/07 21:13:26 WARN MemoryStore: Not enough space to cache rdd_50_2 in memory! (computed 43.2 MiB so far)\n",
      "23/05/07 21:13:26 WARN BlockManager: Persisting block rdd_50_2 to disk instead.\n",
      "23/05/07 21:13:27 WARN MemoryStore: Not enough space to cache rdd_50_0 in memory! (computed 42.6 MiB so far)\n",
      "23/05/07 21:13:27 WARN BlockManager: Persisting block rdd_50_0 to disk instead.\n",
      "23/05/07 21:13:36 WARN MemoryStore: Not enough space to cache rdd_50_5 in memory! (computed 153.3 MiB so far)\n",
      "23/05/07 21:13:36 WARN BlockManager: Persisting block rdd_50_5 to disk instead.\n",
      "23/05/07 21:13:37 WARN MemoryStore: Not enough space to cache rdd_50_4 in memory! (computed 152.3 MiB so far)\n",
      "23/05/07 21:13:37 WARN BlockManager: Persisting block rdd_50_4 to disk instead.\n",
      "23/05/07 21:14:01 WARN MemoryStore: Not enough space to cache rdd_50_0 in memory! (computed 63.9 MiB so far)\n",
      "23/05/07 21:14:01 WARN MemoryStore: Not enough space to cache rdd_50_3 in memory! (computed 18.6 MiB so far)\n",
      "23/05/07 21:14:02 WARN MemoryStore: Not enough space to cache rdd_50_6 in memory! (computed 42.5 MiB so far)\n",
      "23/05/07 21:14:02 WARN MemoryStore: Not enough space to cache rdd_50_5 in memory! (computed 94.2 MiB so far)\n",
      "23/05/07 21:14:02 WARN MemoryStore: Not enough space to cache rdd_50_1 in memory! (computed 65.1 MiB so far)\n",
      "23/05/07 21:14:03 WARN MemoryStore: Not enough space to cache rdd_50_2 in memory! (computed 149.9 MiB so far)\n",
      "23/05/07 21:14:03 WARN MemoryStore: Not enough space to cache rdd_50_7 in memory! (computed 96.2 MiB so far)\n",
      "23/05/07 21:14:09 WARN MemoryStore: Not enough space to cache rdd_50_8 in memory! (computed 64.5 MiB so far)\n",
      "23/05/07 21:14:09 WARN BlockManager: Persisting block rdd_50_8 to disk instead.\n",
      "23/05/07 21:14:18 WARN MemoryStore: Not enough space to cache rdd_50_8 in memory! (computed 96.7 MiB so far)\n",
      "23/05/07 21:14:20 WARN MemoryStore: Not enough space to cache rdd_50_0 in memory! (computed 96.1 MiB so far)\n",
      "23/05/07 21:14:22 WARN MemoryStore: Not enough space to cache rdd_50_0 in memory! (computed 96.1 MiB so far)\n",
      "23/05/07 21:14:23 WARN InstanceBuilder: Failed to load implementation from:dev.ludovic.netlib.blas.JNIBLAS\n",
      "23/05/07 21:14:23 WARN MemoryStore: Not enough space to cache rdd_50_6 in memory! (computed 18.9 MiB so far)\n",
      "23/05/07 21:14:23 WARN MemoryStore: Not enough space to cache rdd_50_7 in memory! (computed 19.0 MiB so far)\n",
      "23/05/07 21:14:23 WARN MemoryStore: Not enough space to cache rdd_50_3 in memory! (computed 12.1 MiB so far)\n",
      "23/05/07 21:14:23 WARN MemoryStore: Not enough space to cache rdd_50_2 in memory! (computed 19.1 MiB so far)\n",
      "23/05/07 21:14:23 WARN MemoryStore: Not enough space to cache rdd_50_1 in memory! (computed 19.3 MiB so far)\n",
      "23/05/07 21:14:23 WARN MemoryStore: Not enough space to cache rdd_50_5 in memory! (computed 18.6 MiB so far)\n",
      "23/05/07 21:14:23 WARN MemoryStore: Not enough space to cache rdd_50_0 in memory! (computed 12.2 MiB so far)\n",
      "23/05/07 21:14:35 WARN MemoryStore: Not enough space to cache rdd_50_8 in memory! (computed 96.7 MiB so far)\n",
      "23/05/07 21:14:44 WARN MemoryStore: Not enough space to cache rdd_50_0 in memory! (computed 96.1 MiB so far)\n",
      "23/05/07 21:14:44 WARN MemoryStore: Not enough space to cache rdd_50_0 in memory! (computed 18.9 MiB so far)\n",
      "23/05/07 21:14:44 WARN MemoryStore: Not enough space to cache rdd_50_5 in memory! (computed 11.8 MiB so far)\n",
      "23/05/07 21:14:44 WARN MemoryStore: Not enough space to cache rdd_50_7 in memory! (computed 11.7 MiB so far)\n",
      "23/05/07 21:14:44 WARN MemoryStore: Not enough space to cache rdd_50_1 in memory! (computed 19.3 MiB so far)\n",
      "23/05/07 21:14:45 WARN MemoryStore: Not enough space to cache rdd_50_2 in memory! (computed 19.1 MiB so far)\n",
      "23/05/07 21:14:45 WARN MemoryStore: Not enough space to cache rdd_50_6 in memory! (computed 18.9 MiB so far)\n",
      "23/05/07 21:14:45 WARN MemoryStore: Not enough space to cache rdd_50_3 in memory! (computed 18.6 MiB so far)\n",
      "23/05/07 21:14:52 WARN MemoryStore: Not enough space to cache rdd_50_8 in memory! (computed 96.7 MiB so far)\n",
      "23/05/07 21:14:59 WARN MemoryStore: Not enough space to cache rdd_50_0 in memory! (computed 96.1 MiB so far)\n",
      "23/05/07 21:15:00 WARN MemoryStore: Not enough space to cache rdd_50_2 in memory! (computed 12.2 MiB so far)\n",
      "23/05/07 21:15:00 WARN MemoryStore: Not enough space to cache rdd_50_5 in memory! (computed 18.6 MiB so far)\n",
      "23/05/07 21:15:00 WARN MemoryStore: Not enough space to cache rdd_50_7 in memory! (computed 19.0 MiB so far)\n",
      "23/05/07 21:15:00 WARN MemoryStore: Not enough space to cache rdd_50_6 in memory! (computed 18.9 MiB so far)\n",
      "23/05/07 21:15:00 WARN MemoryStore: Not enough space to cache rdd_50_0 in memory! (computed 12.2 MiB so far)\n",
      "23/05/07 21:15:00 WARN MemoryStore: Not enough space to cache rdd_50_3 in memory! (computed 18.6 MiB so far)\n",
      "23/05/07 21:15:00 WARN MemoryStore: Not enough space to cache rdd_50_1 in memory! (computed 19.3 MiB so far)\n",
      "23/05/07 21:15:08 WARN MemoryStore: Not enough space to cache rdd_50_8 in memory! (computed 96.7 MiB so far)\n",
      "23/05/07 21:15:15 WARN MemoryStore: Not enough space to cache rdd_50_0 in memory! (computed 96.1 MiB so far)\n",
      "23/05/07 21:15:15 WARN MemoryStore: Not enough space to cache rdd_50_5 in memory! (computed 11.8 MiB so far)\n",
      "23/05/07 21:15:15 WARN MemoryStore: Not enough space to cache rdd_50_7 in memory! (computed 19.0 MiB so far)\n",
      "23/05/07 21:15:15 WARN MemoryStore: Not enough space to cache rdd_50_0 in memory! (computed 12.2 MiB so far)\n",
      "23/05/07 21:15:15 WARN MemoryStore: Not enough space to cache rdd_50_6 in memory! (computed 18.9 MiB so far)\n",
      "23/05/07 21:15:15 WARN MemoryStore: Not enough space to cache rdd_50_2 in memory! (computed 19.1 MiB so far)\n",
      "23/05/07 21:15:15 WARN MemoryStore: Not enough space to cache rdd_50_3 in memory! (computed 18.6 MiB so far)\n",
      "23/05/07 21:15:15 WARN MemoryStore: Not enough space to cache rdd_50_1 in memory! (computed 19.3 MiB so far)\n",
      "23/05/07 21:15:22 WARN MemoryStore: Not enough space to cache rdd_50_8 in memory! (computed 96.7 MiB so far)\n",
      "23/05/07 21:15:30 WARN MemoryStore: Not enough space to cache rdd_50_0 in memory! (computed 96.1 MiB so far)\n",
      "23/05/07 21:15:30 WARN MemoryStore: Not enough space to cache rdd_50_6 in memory! (computed 12.0 MiB so far)\n",
      "23/05/07 21:15:30 WARN MemoryStore: Not enough space to cache rdd_50_3 in memory! (computed 12.1 MiB so far)\n",
      "23/05/07 21:15:30 WARN MemoryStore: Not enough space to cache rdd_50_2 in memory! (computed 19.1 MiB so far)\n",
      "23/05/07 21:15:30 WARN MemoryStore: Not enough space to cache rdd_50_0 in memory! (computed 18.9 MiB so far)\n",
      "23/05/07 21:15:30 WARN MemoryStore: Not enough space to cache rdd_50_1 in memory! (computed 19.3 MiB so far)\n",
      "23/05/07 21:15:30 WARN MemoryStore: Not enough space to cache rdd_50_5 in memory! (computed 18.6 MiB so far)\n",
      "23/05/07 21:15:30 WARN MemoryStore: Not enough space to cache rdd_50_7 in memory! (computed 19.0 MiB so far)\n",
      "23/05/07 21:15:38 WARN MemoryStore: Not enough space to cache rdd_50_8 in memory! (computed 96.7 MiB so far)\n",
      "23/05/07 21:15:45 WARN MemoryStore: Not enough space to cache rdd_50_0 in memory! (computed 96.1 MiB so far)\n",
      "23/05/07 21:15:45 WARN MemoryStore: Not enough space to cache rdd_50_7 in memory! (computed 11.7 MiB so far)\n",
      "23/05/07 21:15:45 WARN MemoryStore: Not enough space to cache rdd_50_0 in memory! (computed 18.9 MiB so far)\n",
      "23/05/07 21:15:45 WARN MemoryStore: Not enough space to cache rdd_50_5 in memory! (computed 18.6 MiB so far)\n",
      "23/05/07 21:15:45 WARN MemoryStore: Not enough space to cache rdd_50_1 in memory! (computed 12.0 MiB so far)\n",
      "23/05/07 21:15:45 WARN MemoryStore: Not enough space to cache rdd_50_2 in memory! (computed 19.1 MiB so far)\n",
      "23/05/07 21:15:45 WARN MemoryStore: Not enough space to cache rdd_50_3 in memory! (computed 18.6 MiB so far)\n",
      "23/05/07 21:15:46 WARN MemoryStore: Not enough space to cache rdd_50_6 in memory! (computed 18.9 MiB so far)\n",
      "23/05/07 21:15:53 WARN MemoryStore: Not enough space to cache rdd_50_8 in memory! (computed 96.7 MiB so far)\n",
      "23/05/07 21:16:00 WARN MemoryStore: Not enough space to cache rdd_50_0 in memory! (computed 96.1 MiB so far)\n",
      "23/05/07 21:16:00 WARN MemoryStore: Not enough space to cache rdd_50_7 in memory! (computed 11.7 MiB so far)\n",
      "23/05/07 21:16:00 WARN MemoryStore: Not enough space to cache rdd_50_6 in memory! (computed 18.9 MiB so far)\n",
      "23/05/07 21:16:00 WARN MemoryStore: Not enough space to cache rdd_50_2 in memory! (computed 19.1 MiB so far)\n",
      "23/05/07 21:16:00 WARN MemoryStore: Not enough space to cache rdd_50_1 in memory! (computed 12.0 MiB so far)\n",
      "23/05/07 21:16:00 WARN MemoryStore: Not enough space to cache rdd_50_3 in memory! (computed 18.6 MiB so far)\n",
      "23/05/07 21:16:00 WARN MemoryStore: Not enough space to cache rdd_50_5 in memory! (computed 18.6 MiB so far)\n",
      "23/05/07 21:16:01 WARN MemoryStore: Not enough space to cache rdd_50_0 in memory! (computed 18.9 MiB so far)\n",
      "23/05/07 21:16:08 WARN MemoryStore: Not enough space to cache rdd_50_8 in memory! (computed 96.7 MiB so far)\n",
      "23/05/07 21:16:15 WARN MemoryStore: Not enough space to cache rdd_50_0 in memory! (computed 96.1 MiB so far)\n",
      "23/05/07 21:16:16 WARN MemoryStore: Not enough space to cache rdd_50_3 in memory! (computed 18.6 MiB so far)\n",
      "23/05/07 21:16:16 WARN MemoryStore: Not enough space to cache rdd_50_2 in memory! (computed 19.1 MiB so far)\n",
      "23/05/07 21:16:16 WARN MemoryStore: Not enough space to cache rdd_50_1 in memory! (computed 12.0 MiB so far)\n",
      "23/05/07 21:16:16 WARN MemoryStore: Not enough space to cache rdd_50_7 in memory! (computed 19.0 MiB so far)\n",
      "23/05/07 21:16:16 WARN MemoryStore: Not enough space to cache rdd_50_6 in memory! (computed 12.0 MiB so far)\n",
      "23/05/07 21:16:16 WARN MemoryStore: Not enough space to cache rdd_50_0 in memory! (computed 18.9 MiB so far)\n",
      "23/05/07 21:16:16 WARN MemoryStore: Not enough space to cache rdd_50_5 in memory! (computed 18.6 MiB so far)\n",
      "23/05/07 21:16:23 WARN MemoryStore: Not enough space to cache rdd_50_8 in memory! (computed 96.7 MiB so far)\n",
      "23/05/07 21:16:30 WARN MemoryStore: Not enough space to cache rdd_50_0 in memory! (computed 96.1 MiB so far)\n",
      "23/05/07 21:16:30 WARN MemoryStore: Not enough space to cache rdd_50_1 in memory! (computed 19.3 MiB so far)\n",
      "23/05/07 21:16:30 WARN MemoryStore: Not enough space to cache rdd_50_3 in memory! (computed 18.6 MiB so far)\n",
      "23/05/07 21:16:30 WARN MemoryStore: Not enough space to cache rdd_50_7 in memory! (computed 11.7 MiB so far)\n",
      "23/05/07 21:16:31 WARN MemoryStore: Not enough space to cache rdd_50_0 in memory! (computed 12.2 MiB so far)\n",
      "23/05/07 21:16:31 WARN MemoryStore: Not enough space to cache rdd_50_5 in memory! (computed 18.6 MiB so far)\n",
      "23/05/07 21:16:31 WARN MemoryStore: Not enough space to cache rdd_50_6 in memory! (computed 18.9 MiB so far)\n",
      "23/05/07 21:16:31 WARN MemoryStore: Not enough space to cache rdd_50_2 in memory! (computed 19.1 MiB so far)\n",
      "23/05/07 21:16:38 WARN MemoryStore: Not enough space to cache rdd_50_8 in memory! (computed 96.7 MiB so far)\n",
      "23/05/07 21:16:45 WARN MemoryStore: Not enough space to cache rdd_50_0 in memory! (computed 96.1 MiB so far)\n",
      "23/05/07 21:16:45 WARN MemoryStore: Not enough space to cache rdd_50_6 in memory! (computed 12.0 MiB so far)\n",
      "23/05/07 21:16:45 WARN MemoryStore: Not enough space to cache rdd_50_1 in memory! (computed 12.0 MiB so far)\n",
      "23/05/07 21:16:45 WARN MemoryStore: Not enough space to cache rdd_50_7 in memory! (computed 19.0 MiB so far)\n",
      "23/05/07 21:16:45 WARN MemoryStore: Not enough space to cache rdd_50_2 in memory! (computed 19.1 MiB so far)\n",
      "23/05/07 21:16:45 WARN MemoryStore: Not enough space to cache rdd_50_5 in memory! (computed 18.6 MiB so far)\n",
      "23/05/07 21:16:45 WARN MemoryStore: Not enough space to cache rdd_50_3 in memory! (computed 18.6 MiB so far)\n",
      "23/05/07 21:16:45 WARN MemoryStore: Not enough space to cache rdd_50_0 in memory! (computed 18.9 MiB so far)\n",
      "23/05/07 21:16:52 WARN MemoryStore: Not enough space to cache rdd_50_8 in memory! (computed 96.7 MiB so far)\n",
      "23/05/07 21:16:59 WARN MemoryStore: Not enough space to cache rdd_50_0 in memory! (computed 96.1 MiB so far)\n",
      "23/05/07 21:17:00 WARN MemoryStore: Not enough space to cache rdd_50_3 in memory! (computed 12.1 MiB so far)\n",
      "23/05/07 21:17:00 WARN MemoryStore: Not enough space to cache rdd_50_1 in memory! (computed 12.0 MiB so far)\n",
      "23/05/07 21:17:00 WARN MemoryStore: Not enough space to cache rdd_50_0 in memory! (computed 18.9 MiB so far)\n",
      "23/05/07 21:17:00 WARN MemoryStore: Not enough space to cache rdd_50_5 in memory! (computed 18.6 MiB so far)\n",
      "23/05/07 21:17:00 WARN MemoryStore: Not enough space to cache rdd_50_7 in memory! (computed 19.0 MiB so far)\n",
      "23/05/07 21:17:00 WARN MemoryStore: Not enough space to cache rdd_50_6 in memory! (computed 18.9 MiB so far)\n",
      "23/05/07 21:17:00 WARN MemoryStore: Not enough space to cache rdd_50_2 in memory! (computed 19.1 MiB so far)\n",
      "23/05/07 21:17:07 WARN MemoryStore: Not enough space to cache rdd_50_8 in memory! (computed 96.7 MiB so far)\n",
      "23/05/07 21:17:14 WARN MemoryStore: Not enough space to cache rdd_50_0 in memory! (computed 96.1 MiB so far)\n",
      "23/05/07 21:17:14 WARN MemoryStore: Not enough space to cache rdd_50_0 in memory! (computed 12.2 MiB so far)\n",
      "23/05/07 21:17:14 WARN MemoryStore: Not enough space to cache rdd_50_5 in memory! (computed 11.8 MiB so far)\n",
      "23/05/07 21:17:14 WARN MemoryStore: Not enough space to cache rdd_50_3 in memory! (computed 18.6 MiB so far)\n",
      "23/05/07 21:17:14 WARN MemoryStore: Not enough space to cache rdd_50_6 in memory! (computed 18.9 MiB so far)\n",
      "23/05/07 21:17:14 WARN MemoryStore: Not enough space to cache rdd_50_1 in memory! (computed 19.3 MiB so far)\n",
      "23/05/07 21:17:15 WARN MemoryStore: Not enough space to cache rdd_50_7 in memory! (computed 19.0 MiB so far)\n",
      "23/05/07 21:17:15 WARN MemoryStore: Not enough space to cache rdd_50_2 in memory! (computed 19.1 MiB so far)\n",
      "23/05/07 21:17:22 WARN MemoryStore: Not enough space to cache rdd_50_8 in memory! (computed 96.7 MiB so far)\n",
      "23/05/07 21:17:29 WARN MemoryStore: Not enough space to cache rdd_50_0 in memory! (computed 96.1 MiB so far)\n",
      "23/05/07 21:17:29 WARN MemoryStore: Not enough space to cache rdd_50_3 in memory! (computed 12.1 MiB so far)\n",
      "23/05/07 21:17:29 WARN MemoryStore: Not enough space to cache rdd_50_7 in memory! (computed 11.7 MiB so far)\n",
      "23/05/07 21:17:29 WARN MemoryStore: Not enough space to cache rdd_50_1 in memory! (computed 19.3 MiB so far)\n",
      "23/05/07 21:17:29 WARN MemoryStore: Not enough space to cache rdd_50_5 in memory! (computed 18.6 MiB so far)\n",
      "23/05/07 21:17:29 WARN MemoryStore: Not enough space to cache rdd_50_2 in memory! (computed 19.1 MiB so far)\n",
      "23/05/07 21:17:29 WARN MemoryStore: Not enough space to cache rdd_50_0 in memory! (computed 18.9 MiB so far)\n",
      "23/05/07 21:17:30 WARN MemoryStore: Not enough space to cache rdd_50_6 in memory! (computed 18.9 MiB so far)\n",
      "23/05/07 21:17:36 WARN MemoryStore: Not enough space to cache rdd_50_8 in memory! (computed 96.7 MiB so far)\n",
      "23/05/07 21:17:43 WARN MemoryStore: Not enough space to cache rdd_50_0 in memory! (computed 96.1 MiB so far)\n",
      "23/05/07 21:17:44 WARN MemoryStore: Not enough space to cache rdd_50_5 in memory! (computed 11.8 MiB so far)\n",
      "23/05/07 21:17:44 WARN MemoryStore: Not enough space to cache rdd_50_2 in memory! (computed 19.1 MiB so far)\n",
      "23/05/07 21:17:44 WARN MemoryStore: Not enough space to cache rdd_50_1 in memory! (computed 12.0 MiB so far)\n",
      "23/05/07 21:17:44 WARN MemoryStore: Not enough space to cache rdd_50_7 in memory! (computed 19.0 MiB so far)\n",
      "23/05/07 21:17:44 WARN MemoryStore: Not enough space to cache rdd_50_6 in memory! (computed 18.9 MiB so far)\n",
      "23/05/07 21:17:44 WARN MemoryStore: Not enough space to cache rdd_50_3 in memory! (computed 18.6 MiB so far)\n",
      "23/05/07 21:17:44 WARN MemoryStore: Not enough space to cache rdd_50_0 in memory! (computed 18.9 MiB so far)\n",
      "23/05/07 21:17:51 WARN MemoryStore: Not enough space to cache rdd_50_8 in memory! (computed 96.7 MiB so far)\n",
      "23/05/07 21:17:58 WARN MemoryStore: Not enough space to cache rdd_50_0 in memory! (computed 96.1 MiB so far)\n",
      "23/05/07 21:17:59 WARN MemoryStore: Not enough space to cache rdd_50_0 in memory! (computed 12.2 MiB so far)\n",
      "23/05/07 21:17:59 WARN MemoryStore: Not enough space to cache rdd_50_1 in memory! (computed 12.0 MiB so far)\n",
      "23/05/07 21:17:59 WARN MemoryStore: Not enough space to cache rdd_50_2 in memory! (computed 19.1 MiB so far)\n",
      "23/05/07 21:17:59 WARN MemoryStore: Not enough space to cache rdd_50_3 in memory! (computed 18.6 MiB so far)\n",
      "23/05/07 21:17:59 WARN MemoryStore: Not enough space to cache rdd_50_7 in memory! (computed 19.0 MiB so far)\n",
      "23/05/07 21:17:59 WARN MemoryStore: Not enough space to cache rdd_50_6 in memory! (computed 18.9 MiB so far)\n",
      "23/05/07 21:17:59 WARN MemoryStore: Not enough space to cache rdd_50_5 in memory! (computed 18.6 MiB so far)\n",
      "23/05/07 21:18:06 WARN MemoryStore: Not enough space to cache rdd_50_8 in memory! (computed 96.7 MiB so far)\n",
      "23/05/07 21:18:13 WARN MemoryStore: Not enough space to cache rdd_50_0 in memory! (computed 96.1 MiB so far)\n",
      "23/05/07 21:18:13 WARN MemoryStore: Not enough space to cache rdd_50_5 in memory! (computed 11.8 MiB so far)\n",
      "23/05/07 21:18:14 WARN MemoryStore: Not enough space to cache rdd_50_1 in memory! (computed 12.0 MiB so far)\n",
      "23/05/07 21:18:14 WARN MemoryStore: Not enough space to cache rdd_50_7 in memory! (computed 19.0 MiB so far)\n",
      "23/05/07 21:18:14 WARN MemoryStore: Not enough space to cache rdd_50_2 in memory! (computed 19.1 MiB so far)\n",
      "23/05/07 21:18:14 WARN MemoryStore: Not enough space to cache rdd_50_0 in memory! (computed 18.9 MiB so far)\n",
      "23/05/07 21:18:14 WARN MemoryStore: Not enough space to cache rdd_50_3 in memory! (computed 18.6 MiB so far)\n",
      "23/05/07 21:18:14 WARN MemoryStore: Not enough space to cache rdd_50_6 in memory! (computed 18.9 MiB so far)\n",
      "23/05/07 21:18:20 WARN MemoryStore: Not enough space to cache rdd_50_8 in memory! (computed 96.7 MiB so far)\n",
      "23/05/07 21:18:27 WARN MemoryStore: Not enough space to cache rdd_50_0 in memory! (computed 96.1 MiB so far)\n",
      "23/05/07 21:18:28 WARN MemoryStore: Not enough space to cache rdd_50_2 in memory! (computed 12.2 MiB so far)\n",
      "23/05/07 21:18:28 WARN MemoryStore: Not enough space to cache rdd_50_0 in memory! (computed 12.2 MiB so far)\n",
      "23/05/07 21:18:28 WARN MemoryStore: Not enough space to cache rdd_50_3 in memory! (computed 18.6 MiB so far)\n",
      "23/05/07 21:18:28 WARN MemoryStore: Not enough space to cache rdd_50_1 in memory! (computed 19.3 MiB so far)\n",
      "23/05/07 21:18:28 WARN MemoryStore: Not enough space to cache rdd_50_7 in memory! (computed 19.0 MiB so far)\n",
      "23/05/07 21:18:28 WARN MemoryStore: Not enough space to cache rdd_50_5 in memory! (computed 18.6 MiB so far)\n",
      "23/05/07 21:18:28 WARN MemoryStore: Not enough space to cache rdd_50_6 in memory! (computed 18.9 MiB so far)\n",
      "23/05/07 21:18:35 WARN MemoryStore: Not enough space to cache rdd_50_8 in memory! (computed 96.7 MiB so far)\n",
      "23/05/07 21:18:42 WARN MemoryStore: Not enough space to cache rdd_50_0 in memory! (computed 96.1 MiB so far)\n",
      "23/05/07 21:18:42 WARN MemoryStore: Not enough space to cache rdd_50_7 in memory! (computed 19.0 MiB so far)\n",
      "23/05/07 21:18:42 WARN MemoryStore: Not enough space to cache rdd_50_3 in memory! (computed 12.1 MiB so far)\n",
      "23/05/07 21:18:42 WARN MemoryStore: Not enough space to cache rdd_50_5 in memory! (computed 11.8 MiB so far)\n",
      "23/05/07 21:18:42 WARN MemoryStore: Not enough space to cache rdd_50_2 in memory! (computed 19.1 MiB so far)\n",
      "23/05/07 21:18:43 WARN MemoryStore: Not enough space to cache rdd_50_1 in memory! (computed 19.3 MiB so far)\n",
      "23/05/07 21:18:43 WARN MemoryStore: Not enough space to cache rdd_50_0 in memory! (computed 18.9 MiB so far)\n",
      "23/05/07 21:18:43 WARN MemoryStore: Not enough space to cache rdd_50_6 in memory! (computed 18.9 MiB so far)\n",
      "23/05/07 21:18:50 WARN MemoryStore: Not enough space to cache rdd_50_8 in memory! (computed 96.7 MiB so far)\n",
      "23/05/07 21:18:56 WARN MemoryStore: Not enough space to cache rdd_50_0 in memory! (computed 96.1 MiB so far)\n",
      "23/05/07 21:18:57 WARN MemoryStore: Not enough space to cache rdd_50_0 in memory! (computed 18.9 MiB so far)\n",
      "23/05/07 21:18:57 WARN MemoryStore: Not enough space to cache rdd_50_5 in memory! (computed 18.6 MiB so far)\n",
      "23/05/07 21:18:57 WARN MemoryStore: Not enough space to cache rdd_50_3 in memory! (computed 18.6 MiB so far)\n",
      "23/05/07 21:18:57 WARN MemoryStore: Not enough space to cache rdd_50_1 in memory! (computed 19.3 MiB so far)\n",
      "23/05/07 21:18:57 WARN MemoryStore: Not enough space to cache rdd_50_6 in memory! (computed 18.9 MiB so far)\n",
      "23/05/07 21:18:57 WARN MemoryStore: Not enough space to cache rdd_50_2 in memory! (computed 12.2 MiB so far)\n",
      "23/05/07 21:18:57 WARN MemoryStore: Not enough space to cache rdd_50_7 in memory! (computed 11.7 MiB so far)\n",
      "23/05/07 21:19:04 WARN MemoryStore: Not enough space to cache rdd_50_8 in memory! (computed 96.7 MiB so far)\n",
      "23/05/07 21:19:11 WARN MemoryStore: Not enough space to cache rdd_50_0 in memory! (computed 96.1 MiB so far)\n",
      "23/05/07 21:19:11 WARN MemoryStore: Not enough space to cache rdd_50_1 in memory! (computed 12.0 MiB so far)\n",
      "23/05/07 21:19:11 WARN MemoryStore: Not enough space to cache rdd_50_0 in memory! (computed 18.9 MiB so far)\n",
      "23/05/07 21:19:11 WARN MemoryStore: Not enough space to cache rdd_50_5 in memory! (computed 18.6 MiB so far)\n",
      "23/05/07 21:19:11 WARN MemoryStore: Not enough space to cache rdd_50_6 in memory! (computed 12.0 MiB so far)\n",
      "23/05/07 21:19:11 WARN MemoryStore: Not enough space to cache rdd_50_3 in memory! (computed 18.6 MiB so far)\n",
      "23/05/07 21:19:11 WARN MemoryStore: Not enough space to cache rdd_50_2 in memory! (computed 19.1 MiB so far)\n",
      "23/05/07 21:19:11 WARN MemoryStore: Not enough space to cache rdd_50_7 in memory! (computed 19.0 MiB so far)\n",
      "23/05/07 21:19:18 WARN MemoryStore: Not enough space to cache rdd_50_8 in memory! (computed 96.7 MiB so far)\n",
      "[Stage 72:===================================================>      (8 + 1) / 9]\r"
     ]
    },
    {
     "name": "stdout",
     "output_type": "stream",
     "text": [
      "loaded: 22128002\n",
      "root\n",
      " |-- trackId: integer (nullable = true)\n",
      " |-- albumId: integer (nullable = true)\n",
      " |-- artistId: integer (nullable = true)\n",
      " |-- userId: integer (nullable = true)\n",
      " |-- rating: integer (nullable = true)\n",
      " |-- genres: string (nullable = true)\n",
      " |-- genres_array: array (nullable = true)\n",
      " |    |-- element: string (containsNull = true)\n",
      " |-- ohe_features: vector (nullable = true)\n",
      " |-- topicDistribution: vector (nullable = true)\n",
      "\n",
      "None\n",
      "+-------+-------+--------+------+------+--------------------+--------------------+--------------------+--------------------+\n",
      "|trackId|albumId|artistId|userId|rating|              genres|        genres_array|        ohe_features|   topicDistribution|\n",
      "+-------+-------+--------+------+------+--------------------+--------------------+--------------------+--------------------+\n",
      "| 204650| 177418|  131552|199810|    50|                  []|                [[]]|     (733,[0],[1.0])|[0.09673169041557...|\n",
      "|   9774|  79500|  158282|199810|    50|['242383', '207648']|[['242383',  '207...|(733,[25,79],[1.0...|[0.06417900814821...|\n",
      "|   9774|  79500|  158282|199810|    50|['242383', '20764...|[['242383',  '207...|(733,[25,95,324],...|[0.29052819079837...|\n",
      "|  26374| 153568|  158282|199810|    50| ['81520', '242383']|[['81520',  '2423...|(733,[29,34],[1.0...|[0.06417947391214...|\n",
      "| 271229| 293464|  279143|199811|    70| ['173655', '98154']|[['173655',  '981...|(733,[242,616],[1...|[0.06423455611098...|\n",
      "| 271229| 293464|  279143|199811|    70|          ['173655']|        [['173655']]|   (733,[155],[1.0])|[0.09673140642637...|\n",
      "| 271229| 293464|  279143|199811|    70|          ['173655']|        [['173655']]|   (733,[155],[1.0])|[0.09673140642637...|\n",
      "| 271229| 293464|  279143|199811|    70|          ['173655']|        [['173655']]|   (733,[155],[1.0])|[0.09673140642637...|\n",
      "| 271229| 293464|  279143|199811|    70|          ['173655']|        [['173655']]|   (733,[155],[1.0])|[0.09673140642637...|\n",
      "| 271229| 293464|  279143|199811|    70|          ['173655']|        [['173655']]|   (733,[155],[1.0])|[0.09673140642637...|\n",
      "+-------+-------+--------+------+------+--------------------+--------------------+--------------------+--------------------+\n",
      "only showing top 10 rows\n",
      "\n",
      "None\n"
     ]
    },
    {
     "name": "stderr",
     "output_type": "stream",
     "text": [
      "                                                                                \r"
     ]
    }
   ],
   "source": [
    "from pyspark.ml.clustering import LDA\n",
    "from pyspark.ml.feature import CountVectorizer\n",
    "from pyspark.sql.functions import udf\n",
    "from pyspark.sql.types import ArrayType, StringType\n",
    "\n",
    "split_genres = udf(lambda x: x.split(','), ArrayType(StringType()))\n",
    "df = df.withColumn(\"genres_array\", split_genres(\"genres\"))\n",
    "\n",
    "cv = CountVectorizer(inputCol=\"genres_array\", outputCol=\"ohe_features\")\n",
    "cv_model = cv.fit(df)\n",
    "df_ohe = cv_model.transform(df)\n",
    "\n",
    "\n",
    "num_topics = 5  # Choose the number of topics based on the desired lower dimensionality\n",
    "lda = LDA(k=num_topics, featuresCol=\"ohe_features\")\n",
    "lda_model = lda.fit(df_ohe)\n",
    "\n",
    "# Get the genre score for each row\n",
    "genre_scores = lda_model.transform(df_ohe)\n",
    "print(\"loaded:\", df.count())\n",
    "print(genre_scores.printSchema())\n",
    "print(genre_scores.show(10))\n",
    "\n",
    "\n"
   ]
  },
  {
   "cell_type": "code",
   "execution_count": 19,
   "metadata": {},
   "outputs": [
    {
     "name": "stderr",
     "output_type": "stream",
     "text": [
      "[Stage 112:==================================================>      (8 + 1) / 9]\r"
     ]
    },
    {
     "name": "stdout",
     "output_type": "stream",
     "text": [
      "loaded: 22128002\n",
      "root\n",
      " |-- features: vector (nullable = true)\n",
      " |-- trackId: integer (nullable = true)\n",
      " |-- albumId: integer (nullable = true)\n",
      " |-- artistId: integer (nullable = true)\n",
      " |-- userId: integer (nullable = true)\n",
      " |-- rating: integer (nullable = true)\n",
      " |-- genres: string (nullable = true)\n",
      " |-- genres_array: array (nullable = true)\n",
      " |    |-- element: string (containsNull = true)\n",
      " |-- ohe_features: vector (nullable = true)\n",
      " |-- topicDistribution: vector (nullable = true)\n",
      "\n",
      "+--------------------+-------+-------+--------+------+------+--------------------+--------------------+--------------------+--------------------+\n",
      "|            features|trackId|albumId|artistId|userId|rating|              genres|        genres_array|        ohe_features|   topicDistribution|\n",
      "+--------------------+-------+-------+--------+------+------+--------------------+--------------------+--------------------+--------------------+\n",
      "|[204650.0,177418....| 204650| 177418|  131552|199810|    50|                  []|                [[]]|     (733,[0],[1.0])|[0.09673169041557...|\n",
      "|[9774.0,79500.0,1...|   9774|  79500|  158282|199810|    50|['242383', '207648']|[['242383',  '207...|(733,[25,79],[1.0...|[0.06417900814821...|\n",
      "|[9774.0,79500.0,1...|   9774|  79500|  158282|199810|    50|['242383', '20764...|[['242383',  '207...|(733,[25,95,324],...|[0.29052819079837...|\n",
      "|[26374.0,153568.0...|  26374| 153568|  158282|199810|    50| ['81520', '242383']|[['81520',  '2423...|(733,[29,34],[1.0...|[0.06417947391214...|\n",
      "|[271229.0,293464....| 271229| 293464|  279143|199811|    70| ['173655', '98154']|[['173655',  '981...|(733,[242,616],[1...|[0.06423455611098...|\n",
      "|[271229.0,293464....| 271229| 293464|  279143|199811|    70|          ['173655']|        [['173655']]|   (733,[155],[1.0])|[0.09673140642637...|\n",
      "|[271229.0,293464....| 271229| 293464|  279143|199811|    70|          ['173655']|        [['173655']]|   (733,[155],[1.0])|[0.09673140642637...|\n",
      "|[271229.0,293464....| 271229| 293464|  279143|199811|    70|          ['173655']|        [['173655']]|   (733,[155],[1.0])|[0.09673140642637...|\n",
      "|[271229.0,293464....| 271229| 293464|  279143|199811|    70|          ['173655']|        [['173655']]|   (733,[155],[1.0])|[0.09673140642637...|\n",
      "|[271229.0,293464....| 271229| 293464|  279143|199811|    70|          ['173655']|        [['173655']]|   (733,[155],[1.0])|[0.09673140642637...|\n",
      "|[271229.0,293464....| 271229| 293464|  279143|199811|    70|['173655', '98154...|[['173655',  '981...|(733,[159,242,258...|[0.04874734114141...|\n",
      "|[271229.0,293464....| 271229| 293464|  279143|199811|    70|          ['173655']|        [['173655']]|   (733,[155],[1.0])|[0.09673140642637...|\n",
      "|[271229.0,293464....| 271229| 293464|  279143|199811|    70|          ['173655']|        [['173655']]|   (733,[155],[1.0])|[0.09673140642637...|\n",
      "|[271229.0,293464....| 271229| 293464|  279143|199811|    70|          ['173655']|        [['173655']]|   (733,[155],[1.0])|[0.09673140642637...|\n",
      "|[271229.0,293464....| 271229| 293464|  279143|199811|    70|          ['173655']|        [['173655']]|   (733,[155],[1.0])|[0.09673140642637...|\n",
      "|[271229.0,293464....| 271229| 293464|  279143|199811|    70|          ['173655']|        [['173655']]|   (733,[155],[1.0])|[0.09673140642637...|\n",
      "|[271229.0,293464....| 271229| 293464|  279143|199811|    70|          ['173655']|        [['173655']]|   (733,[155],[1.0])|[0.09673140642637...|\n",
      "|[271229.0,293464....| 271229| 293464|  279143|199811|    70|          ['173655']|        [['173655']]|   (733,[155],[1.0])|[0.09673140642637...|\n",
      "|[271229.0,293464....| 271229| 293464|  279143|199811|    70|          ['173655']|        [['173655']]|   (733,[155],[1.0])|[0.09673140642637...|\n",
      "|[271229.0,293464....| 271229| 293464|  279143|199811|    70|          ['173655']|        [['173655']]|   (733,[155],[1.0])|[0.09673140642637...|\n",
      "+--------------------+-------+-------+--------+------+------+--------------------+--------------------+--------------------+--------------------+\n",
      "only showing top 20 rows\n",
      "\n"
     ]
    },
    {
     "name": "stderr",
     "output_type": "stream",
     "text": [
      "                                                                                \r"
     ]
    }
   ],
   "source": [
    "df = genre_scores\n",
    "\n",
    "# Fill missing values with 0\n",
    "df = df.fillna(0, subset=['albumId', 'trackId', 'artistId'])\n",
    "\n",
    "stages = []\n",
    "numericCols = ['trackId', 'albumId', 'artistId', \"rating\"]\n",
    "assemblerInputs = numericCols + ['topicDistribution']\n",
    "assembler = VectorAssembler(\n",
    "    inputCols=assemblerInputs, outputCol=\"features\")\n",
    "stages += [assembler]\n",
    "\n",
    "#apply\n",
    "cols = df.columns\n",
    "pipeline = Pipeline(stages=stages)\n",
    "pipelineModel = pipeline.fit(df)\n",
    "df = pipelineModel.transform(df)\n",
    "selectedCols = ['features'] + cols\n",
    "df = df.select(selectedCols)\n",
    "print(\"loaded:\", df.count())\n",
    "df.printSchema()\n",
    "df.show()\n"
   ]
  },
  {
   "cell_type": "code",
   "execution_count": 21,
   "metadata": {},
   "outputs": [
    {
     "name": "stdout",
     "output_type": "stream",
     "text": [
      "root\n",
      " |-- userId: integer (nullable = true)\n",
      " |-- trackId: integer (nullable = true)\n",
      " |-- recommendation: integer (nullable = true)\n",
      "\n",
      "+------+-------+--------------+\n",
      "|userId|trackId|recommendation|\n",
      "+------+-------+--------------+\n",
      "|200031|  30877|             1|\n",
      "|200031|   8244|             1|\n",
      "|200031| 130183|             0|\n",
      "|200031| 198762|             0|\n",
      "|200031|  34503|             1|\n",
      "|200031| 227283|             0|\n",
      "|200032| 218377|             0|\n",
      "|200032| 110262|             0|\n",
      "|200032|  18681|             1|\n",
      "|200032| 138493|             1|\n",
      "|200032|  64167|             1|\n",
      "|200032|  22820|             0|\n",
      "|200055|  52198|             1|\n",
      "|200055| 233815|             0|\n",
      "|200055| 175557|             0|\n",
      "|200055|  59101|             0|\n",
      "|200055|  56695|             1|\n",
      "|200055| 134398|             1|\n",
      "|200065| 179571|             0|\n",
      "|200065| 196286|             0|\n",
      "+------+-------+--------------+\n",
      "only showing top 20 rows\n",
      "\n"
     ]
    }
   ],
   "source": [
    "test2 = spark.read.csv('../data/test2_new.txt', sep='|', header=True, inferSchema=True)\n",
    "test2 = test2.withColumnRenamed('Recommendation', 'recommendation')\n",
    "test2.printSchema()\n",
    "test2.show()"
   ]
  },
  {
   "cell_type": "code",
   "execution_count": 23,
   "metadata": {},
   "outputs": [
    {
     "name": "stdout",
     "output_type": "stream",
     "text": [
      "+------+-------+--------------+\n",
      "|userId|trackId|recommendation|\n",
      "+------+-------+--------------+\n",
      "|200031|  30877|             1|\n",
      "|200031|   8244|             1|\n",
      "|200031| 130183|             0|\n",
      "|200031| 198762|             0|\n",
      "|200031|  34503|             1|\n",
      "|200031| 227283|             0|\n",
      "+------+-------+--------------+\n",
      "\n"
     ]
    }
   ],
   "source": [
    "result = test2.filter(test2.userId == 200031)\n",
    "\n",
    "# Show the filtered result\n",
    "result.show()\n"
   ]
  },
  {
   "cell_type": "code",
   "execution_count": 26,
   "metadata": {},
   "outputs": [
    {
     "name": "stderr",
     "output_type": "stream",
     "text": [
      "[Stage 125:>                                                        (0 + 1) / 1]\r"
     ]
    },
    {
     "name": "stdout",
     "output_type": "stream",
     "text": [
      "+------+-------+--------------------+-------+--------+------+--------------------+--------------------+--------------------+--------------------+--------------+\n",
      "|userId|trackId|            features|albumId|artistId|rating|              genres|        genres_array|        ohe_features|   topicDistribution|recommendation|\n",
      "+------+-------+--------------------+-------+--------+------+--------------------+--------------------+--------------------+--------------------+--------------+\n",
      "|200031|  25703|[25703.0,1589.0,1...|   1589|  131552|    50|          ['214110']|        [['214110']]|    (733,[62],[1.0])|[0.09673194620325...|          null|\n",
      "|200031| 103229|[103229.0,134869....| 134869|  131552|    90|          ['214110']|        [['214110']]|    (733,[62],[1.0])|[0.09673194620325...|          null|\n",
      "|200031| 192723|[192723.0,132319....| 132319|  131552|    90|['176858', '25159...|[['176858',  '251...|(733,[7,26,81,97]...|[0.03836904545788...|          null|\n",
      "|200031| 159984|[159984.0,164412....| 164412|  173467|    50| ['48505', '133159']|[['48505',  '1331...|(733,[8,37],[1.0,...|[0.06419760622591...|          null|\n",
      "|200031| 227506|[227506.0,151565....| 151565|  131552|    70|['176858', '228419']|[['176858',  '228...|(733,[7,48],[1.0,...|[0.06468060801545...|          null|\n",
      "|200031|   1121|[1121.0,114790.0,...| 114790|  173467|    30|           ['48505']|         [['48505']]|    (733,[24],[1.0])|[0.09673158679291...|          null|\n",
      "|200031|  41178|[41178.0,189708.0...| 189708|   61215|    30|          ['274088']|        [['274088']]|   (733,[125],[1.0])|[0.09673132468196...|          null|\n",
      "|200031|  72684|[72684.0,216715.0...| 216715|  199606|    50|          ['259669']|        [['259669']]|   (733,[215],[1.0])|[0.09673145938817...|          null|\n",
      "|200031| 237483|[237483.0,136589....| 136589|  131552|    30|          ['176858']|        [['176858']]|    (733,[80],[1.0])|[0.60393483868356...|          null|\n",
      "|200031|  22531|[22531.0,134869.0...| 134869|  131552|    90|          ['214110']|        [['214110']]|    (733,[62],[1.0])|[0.09673194620325...|          null|\n",
      "|200031| 280925|[280925.0,206388....| 206388|  131552|    50|['173467', '21919...|[['173467',  '219...|(733,[6,55,85],[1...|[0.50256259907982...|          null|\n",
      "|200031| 232570|[232570.0,211701....| 211701|  158282|    70|           ['81520']|         [['81520']]|   (733,[137],[1.0])|[0.09673149652096...|          null|\n",
      "|200031| 287612|[287612.0,66427.0...|  66427|   61215|    30|                  []|                [[]]|     (733,[0],[1.0])|[0.09673169041557...|          null|\n",
      "|200031|  10945|[10945.0,81524.0,...|  81524|   61215|    70|           ['34486']|         [['34486']]|    (733,[43],[1.0])|[0.09673148605200...|          null|\n",
      "|200031|  78621|[78621.0,191690.0...| 191690|  131552|    70|                  []|                [[]]|     (733,[0],[1.0])|[0.09673169041557...|          null|\n",
      "|200031| 159984|[159984.0,164412....| 164412|  173467|    50| ['48505', '133159']|[['48505',  '1331...|(733,[8,37],[1.0,...|[0.06419760622591...|          null|\n",
      "|200031| 280541|[280541.0,36344.0...|  36344|   61215|    30|['17453', '35389'...|[['17453',  '3538...|(733,[3,5,16],[1....|[0.33906729212930...|          null|\n",
      "|200031| 234264|[234264.0,236660....| 236660|  131552|    90|                  []|                [[]]|     (733,[0],[1.0])|[0.09673169041557...|          null|\n",
      "|200031| 115121|[115121.0,275420....| 275420|  131552|    50|          ['214110']|        [['214110']]|    (733,[62],[1.0])|[0.09673194620325...|          null|\n",
      "|200031| 285026|[285026.0,243350....| 243350|   47898|    30|                  []|                [[]]|     (733,[0],[1.0])|[0.09673169041557...|          null|\n",
      "+------+-------+--------------------+-------+--------+------+--------------------+--------------------+--------------------+--------------------+--------------+\n",
      "only showing top 20 rows\n",
      "\n"
     ]
    },
    {
     "name": "stderr",
     "output_type": "stream",
     "text": [
      "23/05/07 21:39:41 WARN PythonUDFRunner: Detected deadlock while completing task 0.0 in stage 125 (TID 412): Attempting to kill Python Worker\n",
      "                                                                                \r"
     ]
    }
   ],
   "source": [
    "result = df.join(test2.select(\"userId\", \"trackId\", \"recommendation\"), on=[\n",
    "    \"userId\", \"trackId\"], how=\"left\")\n",
    "\n",
    "\n",
    "result = result.filter(result.userId == 200031)\n",
    "\n",
    "\n",
    "result.show()\n"
   ]
  },
  {
   "cell_type": "code",
   "execution_count": 8,
   "metadata": {},
   "outputs": [
    {
     "name": "stdout",
     "output_type": "stream",
     "text": [
      "Highest User ID: 212234\n",
      "Lowest User ID: 200031\n"
     ]
    }
   ],
   "source": [
    "from pyspark.sql.functions import max, min\n",
    "\n",
    "# Calculate the highest and lowest user ID\n",
    "max_user_id = test2.agg(max(\"userId\")).collect()[0][0]\n",
    "min_user_id = test2.agg(min(\"userId\")).collect()[0][0]\n",
    "\n",
    "print(\"Highest User ID:\", max_user_id)\n",
    "print(\"Lowest User ID:\", min_user_id)\n"
   ]
  },
  {
   "cell_type": "code",
   "execution_count": 9,
   "metadata": {},
   "outputs": [
    {
     "name": "stderr",
     "output_type": "stream",
     "text": [
      "                                                                                \r"
     ]
    },
    {
     "name": "stdout",
     "output_type": "stream",
     "text": [
      "Training Dataset Count: 5105188\n"
     ]
    },
    {
     "name": "stderr",
     "output_type": "stream",
     "text": [
      "[Stage 102:==================================================>      (8 + 1) / 9]\r"
     ]
    },
    {
     "name": "stdout",
     "output_type": "stream",
     "text": [
      "Test Dataset Count: 242109\n"
     ]
    },
    {
     "name": "stderr",
     "output_type": "stream",
     "text": [
      "                                                                                \r"
     ]
    }
   ],
   "source": [
    "train = df.where(col(\"userID\").between(200596, 212234))\n",
    "test = df.where(col(\"userID\").between(200031, 200563))\n",
    "print(\"Training Dataset Count: \" + str(train.count()))\n",
    "print(\"Test Dataset Count: \" + str(test.count()))"
   ]
  }
 ],
 "metadata": {
  "interpreter": {
   "hash": "916dbcbb3f70747c44a77c7bcd40155683ae19c65e1c03b4aa3499c5328201f1"
  },
  "kernelspec": {
   "display_name": "Python 3.8.10 64-bit",
   "language": "python",
   "name": "python3"
  },
  "language_info": {
   "codemirror_mode": {
    "name": "ipython",
    "version": 3
   },
   "file_extension": ".py",
   "mimetype": "text/x-python",
   "name": "python",
   "nbconvert_exporter": "python",
   "pygments_lexer": "ipython3",
   "version": "3.8.10"
  },
  "orig_nbformat": 4
 },
 "nbformat": 4,
 "nbformat_minor": 2
}
