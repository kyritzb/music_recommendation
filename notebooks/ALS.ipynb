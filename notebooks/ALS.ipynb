{
 "cells": [
  {
   "cell_type": "code",
   "execution_count": 1,
   "metadata": {},
   "outputs": [
    {
     "name": "stderr",
     "output_type": "stream",
     "text": [
      "your 131072x1 screen size is bogus. expect trouble\n",
      "23/05/10 16:43:02 WARN Utils: Your hostname, BryanDesktop resolves to a loopback address: 127.0.1.1; using 172.30.8.97 instead (on interface eth0)\n",
      "23/05/10 16:43:02 WARN Utils: Set SPARK_LOCAL_IP if you need to bind to another address\n",
      "Setting default log level to \"WARN\".\n",
      "To adjust logging level use sc.setLogLevel(newLevel). For SparkR, use setLogLevel(newLevel).\n",
      "23/05/10 16:43:03 WARN NativeCodeLoader: Unable to load native-hadoop library for your platform... using builtin-java classes where applicable\n",
      "                                                                                \r"
     ]
    },
    {
     "name": "stdout",
     "output_type": "stream",
     "text": [
      "root\n",
      " |-- trackId: integer (nullable = true)\n",
      " |-- albumId: integer (nullable = true)\n",
      " |-- artistId: integer (nullable = true)\n",
      " |-- userId: integer (nullable = true)\n",
      " |-- rating: integer (nullable = true)\n",
      " |-- genres: string (nullable = true)\n",
      "\n",
      "+-------+-------+--------+------+------+--------------------+\n",
      "|trackId|albumId|artistId|userId|rating|              genres|\n",
      "+-------+-------+--------+------+------+--------------------+\n",
      "| 204650| 177418|  131552|199810|    50|                  []|\n",
      "|   9774|  79500|  158282|199810|    50|['242383', '207648']|\n",
      "|   9774|  79500|  158282|199810|    50|['242383', '20764...|\n",
      "|  26374| 153568|  158282|199810|    50| ['81520', '242383']|\n",
      "| 271229| 293464|  279143|199811|    70| ['173655', '98154']|\n",
      "+-------+-------+--------+------+------+--------------------+\n",
      "only showing top 5 rows\n",
      "\n"
     ]
    }
   ],
   "source": [
    "from pyspark.sql import SparkSession\n",
    "from pyspark.sql.functions import split, col\n",
    "from pyspark.ml.feature import StringIndexer, VectorAssembler\n",
    "from pyspark.ml import Pipeline\n",
    "import pandas as pd\n",
    "import matplotlib.pyplot as plt\n",
    "import numpy as np\n",
    "from sklearn.metrics import roc_curve, auc\n",
    "\n",
    "data_dir = \"../data/proccessed/dump.csv\"\n",
    "spark = SparkSession.builder \\\n",
    "    .appName(\"recommend-ML\") \\\n",
    "    .config(\"spark.executor.memory\", \"12g\") \\\n",
    "    .config(\"spark.driver.memory\", \"8g\") \\\n",
    "    .getOrCreate()\n",
    "\n",
    "\n",
    "df = spark.read.csv(data_dir, header=True, inferSchema=True)\n",
    "cols = df.columns\n",
    "\n",
    "df = df.withColumn(\"albumId\", col(\"albumId\").cast(\"integer\"))\n",
    "df = df.withColumn(\"rating\", col(\"rating\").cast(\"integer\"))\n",
    "df = df.withColumn(\"userId\", col(\"userId\").cast(\"integer\"))\n",
    "\n",
    "df.printSchema()\n",
    "df.show(5)\n"
   ]
  },
  {
   "cell_type": "code",
   "execution_count": 2,
   "metadata": {},
   "outputs": [
    {
     "name": "stderr",
     "output_type": "stream",
     "text": [
      "23/05/10 16:44:33 WARN InstanceBuilder: Failed to load implementation from:dev.ludovic.netlib.blas.JNIBLAS\n",
      "                                                                                \r"
     ]
    }
   ],
   "source": [
    "from pyspark.ml.clustering import LDA\n",
    "from pyspark.ml.feature import CountVectorizer\n",
    "from pyspark.sql.functions import udf\n",
    "from pyspark.sql.types import ArrayType, StringType\n",
    "\n",
    "\n",
    "def parse_genres(genres_str):\n",
    "    return genres_str.strip('[]').replace(' ', '').split(',')\n",
    "\n",
    "\n",
    "parse_genres_udf = udf(parse_genres, ArrayType(StringType()))\n",
    "\n",
    "df = df.withColumn('genre_ids', parse_genres_udf(df['genres']))\n",
    "\n",
    "cv = CountVectorizer(inputCol=\"genre_ids\", outputCol=\"ohe_features\")\n",
    "cv_model = cv.fit(df)\n",
    "df_ohe = cv_model.transform(df)\n",
    "\n",
    "\n",
    "num_topics = 5  # Choose the number of topics based on the desired lower dimensionality\n",
    "lda = LDA(k=num_topics, featuresCol=\"ohe_features\")\n",
    "lda_model = lda.fit(df_ohe)\n",
    "\n",
    "# Get the genre score for each row\n",
    "genre_scores = lda_model.transform(df_ohe)\n"
   ]
  },
  {
   "cell_type": "code",
   "execution_count": 3,
   "metadata": {},
   "outputs": [
    {
     "name": "stdout",
     "output_type": "stream",
     "text": [
      "root\n",
      " |-- trackId: integer (nullable = true)\n",
      " |-- albumId: integer (nullable = true)\n",
      " |-- artistId: integer (nullable = true)\n",
      " |-- userId: integer (nullable = true)\n",
      " |-- rating: integer (nullable = true)\n",
      " |-- genres: string (nullable = true)\n",
      " |-- genre_ids: array (nullable = true)\n",
      " |    |-- element: string (containsNull = true)\n",
      " |-- ohe_features: vector (nullable = true)\n",
      " |-- topicDistribution: vector (nullable = true)\n",
      "\n",
      "None\n",
      "+-------+-------+--------+------+------+--------------------+--------------------+--------------------+--------------------+\n",
      "|trackId|albumId|artistId|userId|rating|              genres|           genre_ids|        ohe_features|   topicDistribution|\n",
      "+-------+-------+--------+------+------+--------------------+--------------------+--------------------+--------------------+\n",
      "| 204650| 177418|  131552|199810|    50|                  []|                  []|     (202,[0],[1.0])|[0.09460871167530...|\n",
      "|   9774|  79500|  158282|199810|    50|['242383', '207648']|['242383', '207648']|(202,[7,24],[1.0,...|[0.06283829517653...|\n",
      "|   9774|  79500|  158282|199810|    50|['242383', '20764...|['242383', '20764...|(202,[7,24,61],[1...|[0.04758640767896...|\n",
      "|  26374| 153568|  158282|199810|    50| ['81520', '242383']| ['81520', '242383']|(202,[7,28],[1.0,...|[0.06282562035546...|\n",
      "| 271229| 293464|  279143|199811|    70| ['173655', '98154']| ['173655', '98154']|(202,[54,58],[1.0...|[0.40272272861073...|\n",
      "| 271229| 293464|  279143|199811|    70|          ['173655']|          ['173655']|    (202,[58],[1.0])|[0.60133356692339...|\n",
      "| 271229| 293464|  279143|199811|    70|          ['173655']|          ['173655']|    (202,[58],[1.0])|[0.60133356692339...|\n",
      "| 271229| 293464|  279143|199811|    70|          ['173655']|          ['173655']|    (202,[58],[1.0])|[0.60133356692339...|\n",
      "| 271229| 293464|  279143|199811|    70|          ['173655']|          ['173655']|    (202,[58],[1.0])|[0.60133356692339...|\n",
      "| 271229| 293464|  279143|199811|    70|          ['173655']|          ['173655']|    (202,[58],[1.0])|[0.60133356692339...|\n",
      "| 271229| 293464|  279143|199811|    70|['173655', '98154...|['173655', '98154...|(202,[54,58,113],...|[0.55318013892917...|\n",
      "| 271229| 293464|  279143|199811|    70|          ['173655']|          ['173655']|    (202,[58],[1.0])|[0.60133356692339...|\n",
      "| 271229| 293464|  279143|199811|    70|          ['173655']|          ['173655']|    (202,[58],[1.0])|[0.60133356692339...|\n",
      "| 271229| 293464|  279143|199811|    70|          ['173655']|          ['173655']|    (202,[58],[1.0])|[0.60133356692339...|\n",
      "| 271229| 293464|  279143|199811|    70|          ['173655']|          ['173655']|    (202,[58],[1.0])|[0.60133356692339...|\n",
      "| 271229| 293464|  279143|199811|    70|          ['173655']|          ['173655']|    (202,[58],[1.0])|[0.60133356692339...|\n",
      "| 271229| 293464|  279143|199811|    70|          ['173655']|          ['173655']|    (202,[58],[1.0])|[0.60133356692339...|\n",
      "| 271229| 293464|  279143|199811|    70|          ['173655']|          ['173655']|    (202,[58],[1.0])|[0.60133356692339...|\n",
      "| 271229| 293464|  279143|199811|    70|          ['173655']|          ['173655']|    (202,[58],[1.0])|[0.60133356692339...|\n",
      "| 271229| 293464|  279143|199811|    70|          ['173655']|          ['173655']|    (202,[58],[1.0])|[0.60133356692339...|\n",
      "| 271229| 293464|  279143|199811|    70|          ['173655']|          ['173655']|    (202,[58],[1.0])|[0.60133356692339...|\n",
      "| 271229| 293464|  279143|199811|    70|          ['173655']|          ['173655']|    (202,[58],[1.0])|[0.60133356692339...|\n",
      "| 271229| 293464|  279143|199811|    70|          ['173655']|          ['173655']|    (202,[58],[1.0])|[0.60133356692339...|\n",
      "|   9767| 275191|  158282|199812|   100|          ['207648']|          ['207648']|    (202,[24],[1.0])|[0.09464607879812...|\n",
      "| 282454| 155859|  158282|199812|   100|['242383', '20764...|['242383', '20764...|(202,[7,10,24],[1...|[0.04717085408478...|\n",
      "| 282454| 155859|  158282|199812|   100|['242383', '20764...|['242383', '20764...|(202,[7,10,24],[1...|[0.04717085408478...|\n",
      "| 282454| 155859|  158282|199812|   100|['242383', '20764...|['242383', '20764...|(202,[7,10,24],[1...|[0.04717085408478...|\n",
      "|   9767| 275191|  158282|199812|   100|          ['207648']|          ['207648']|    (202,[24],[1.0])|[0.09464607879812...|\n",
      "|   9767| 275191|  158282|199812|   100|          ['207648']|          ['207648']|    (202,[24],[1.0])|[0.09464607879812...|\n",
      "| 226816| 275191|  158282|199812|   100|          ['207648']|          ['207648']|    (202,[24],[1.0])|[0.09464607879812...|\n",
      "|  39941|  42563|  158282|199812|   100|['139095', '24238...|['139095', '24238...|(202,[7,11,16],[1...|[0.04703875625334...|\n",
      "|   9767| 275191|  158282|199812|   100|          ['207648']|          ['207648']|    (202,[24],[1.0])|[0.09464607879812...|\n",
      "|  39941|  42563|  158282|199812|   100|['139095', '242383']|['139095', '242383']|(202,[7,16],[1.0,...|[0.06281593108290...|\n",
      "|  39941|  42563|  158282|199812|   100|['139095', '242383']|['139095', '242383']|(202,[7,16],[1.0,...|[0.06281593108290...|\n",
      "| 226816| 275191|  158282|199812|   100|          ['207648']|          ['207648']|    (202,[24],[1.0])|[0.09464607879812...|\n",
      "|  39941|  42563|  158282|199812|   100|['139095', '242383']|['139095', '242383']|(202,[7,16],[1.0,...|[0.06281593108290...|\n",
      "|   9767| 275191|  158282|199812|   100|['242383', '207648']|['242383', '207648']|(202,[7,24],[1.0,...|[0.06283829517653...|\n",
      "|  39941|  42563|  158282|199812|   100|['139095', '242383']|['139095', '242383']|(202,[7,16],[1.0,...|[0.06281593108290...|\n",
      "|  39941|  42563|  158282|199812|   100|['139095', '242383']|['139095', '242383']|(202,[7,16],[1.0,...|[0.06281593108290...|\n",
      "| 282454| 155859|  158282|199812|   100|['242383', '20764...|['242383', '20764...|(202,[7,10,11,24]...|[0.03766291764184...|\n",
      "| 226816| 275191|  158282|199812|   100|['242383', '207648']|['242383', '207648']|(202,[7,24],[1.0,...|[0.06283829517653...|\n",
      "|   9767| 275191|  158282|199812|   100|          ['207648']|          ['207648']|    (202,[24],[1.0])|[0.09464607879812...|\n",
      "|  39941|  42563|  158282|199812|   100|['139095', '242383']|['139095', '242383']|(202,[7,16],[1.0,...|[0.06281593108290...|\n",
      "| 282454| 155859|  158282|199812|   100|['242383', '20764...|['242383', '20764...|(202,[7,10,24],[1...|[0.04717085408478...|\n",
      "|   9767| 275191|  158282|199812|   100|          ['207648']|          ['207648']|    (202,[24],[1.0])|[0.09464607879812...|\n",
      "| 282454| 155859|  158282|199812|   100|['242383', '20764...|['242383', '20764...|(202,[7,10,24],[1...|[0.04717085408478...|\n",
      "| 226816| 275191|  158282|199812|   100|          ['207648']|          ['207648']|    (202,[24],[1.0])|[0.09464607879812...|\n",
      "| 282454| 155859|  158282|199812|   100|['242383', '20764...|['242383', '20764...|(202,[7,10,24,113...|[0.03800288875380...|\n",
      "|  94200| 128069|  158282|199812|   100|['207648', '279143']|['207648', '279143']|(202,[10,24],[1.0...|[0.06312236209542...|\n",
      "|   9767| 275191|  158282|199812|   100|          ['207648']|          ['207648']|    (202,[24],[1.0])|[0.09464607879812...|\n",
      "|   9767| 275191|  158282|199812|   100|['242383', '207648']|['242383', '207648']|(202,[7,24],[1.0,...|[0.06283829517653...|\n",
      "|  39941|  42563|  158282|199812|   100|['139095', '242383']|['139095', '242383']|(202,[7,16],[1.0,...|[0.06281593108290...|\n",
      "| 226816| 275191|  158282|199812|   100|          ['207648']|          ['207648']|    (202,[24],[1.0])|[0.09464607879812...|\n",
      "|   9767| 275191|  158282|199812|   100|          ['207648']|          ['207648']|    (202,[24],[1.0])|[0.09464607879812...|\n",
      "|  94200| 128069|  158282|199812|   100|['81520', '207648...|['81520', '207648...|(202,[10,24,28],[...|[0.04714457261082...|\n",
      "|  39941|  42563|  158282|199812|   100|['139095', '242383']|['139095', '242383']|(202,[7,16],[1.0,...|[0.06281593108290...|\n",
      "|  39941|  42563|  158282|199812|   100|['139095', '242383']|['139095', '242383']|(202,[7,16],[1.0,...|[0.06281593108290...|\n",
      "| 226816| 275191|  158282|199812|   100|          ['207648']|          ['207648']|    (202,[24],[1.0])|[0.09464607879812...|\n",
      "| 282454| 155859|  158282|199812|   100|['242383', '20764...|['242383', '20764...|(202,[7,10,24],[1...|[0.04717085408478...|\n",
      "|  39941|  42563|  158282|199812|   100|['139095', '24238...|['139095', '24238...|(202,[7,11,16],[1...|[0.04703875625334...|\n",
      "| 112725| 275191|  158282|199812|   100|['81520', '242383...|['81520', '242383...|(202,[7,24,28],[1...|[0.04700613223956...|\n",
      "|   9767| 275191|  158282|199812|   100|['242383', '20764...|['242383', '20764...|(202,[7,11,24],[1...|[0.04704834035447...|\n",
      "|   9767| 275191|  158282|199812|   100|          ['207648']|          ['207648']|    (202,[24],[1.0])|[0.09464607879812...|\n",
      "| 112725| 275191|  158282|199812|   100|['242383', '207648']|['242383', '207648']|(202,[7,24],[1.0,...|[0.06283829517653...|\n",
      "| 226816| 275191|  158282|199812|   100|['242383', '20764...|['242383', '20764...|(202,[7,14,24],[1...|[0.04703155538443...|\n",
      "|   9767| 275191|  158282|199812|   100|          ['207648']|          ['207648']|    (202,[24],[1.0])|[0.09464607879812...|\n",
      "| 282454| 155859|  158282|199812|   100|['242383', '20764...|['242383', '20764...|(202,[7,10,24],[1...|[0.04717085408478...|\n",
      "|  39941|  42563|  158282|199812|   100|['139095', '242383']|['139095', '242383']|(202,[7,16],[1.0,...|[0.06281593108290...|\n",
      "| 226816| 275191|  158282|199812|   100|          ['207648']|          ['207648']|    (202,[24],[1.0])|[0.09464607879812...|\n",
      "|   9767| 275191|  158282|199812|   100|          ['207648']|          ['207648']|    (202,[24],[1.0])|[0.09464607879812...|\n",
      "| 282454| 155859|  158282|199812|   100|['242383', '20764...|['242383', '20764...|(202,[7,10,24],[1...|[0.04717085408478...|\n",
      "| 282454| 155859|  158282|199812|   100|['242383', '20764...|['242383', '20764...|(202,[7,10,24],[1...|[0.04717085408478...|\n",
      "|   9767| 275191|  158282|199812|   100|          ['207648']|          ['207648']|    (202,[24],[1.0])|[0.09464607879812...|\n",
      "| 226816| 275191|  158282|199812|   100|          ['207648']|          ['207648']|    (202,[24],[1.0])|[0.09464607879812...|\n",
      "| 282454| 155859|  158282|199812|   100|['242383', '20764...|['242383', '20764...|(202,[7,10,11,24]...|[0.03766291764184...|\n",
      "|   9767| 275191|  158282|199812|   100|['242383', '20764...|['242383', '20764...|(202,[7,11,24],[1...|[0.04704834035447...|\n",
      "|  39941|  42563|  158282|199812|   100|['139095', '242383']|['139095', '242383']|(202,[7,16],[1.0,...|[0.06281593108290...|\n",
      "| 226816| 275191|  158282|199812|   100|['242383', '207648']|['242383', '207648']|(202,[7,24],[1.0,...|[0.06283829517653...|\n",
      "| 112725| 275191|  158282|199812|   100|['173467', '24238...|['173467', '24238...|(202,[4,7,11,13,2...|[0.03128232382371...|\n",
      "| 282454| 155859|  158282|199812|   100|['242383', '20764...|['242383', '20764...|(202,[7,10,24],[1...|[0.04717085408478...|\n",
      "| 226816| 275191|  158282|199812|   100|['242383', '207648']|['242383', '207648']|(202,[7,24],[1.0,...|[0.06283829517653...|\n",
      "| 282454| 155859|  158282|199812|   100|['242383', '20764...|['242383', '20764...|(202,[7,10,24],[1...|[0.04717085408478...|\n",
      "|  94200| 128069|  158282|199812|   100|['207648', '279143']|['207648', '279143']|(202,[10,24],[1.0...|[0.06312236209542...|\n",
      "| 282454| 155859|  158282|199812|   100|['242383', '20764...|['242383', '20764...|(202,[7,10,11,24]...|[0.03766291764184...|\n",
      "| 226816| 275191|  158282|199812|   100|          ['207648']|          ['207648']|    (202,[24],[1.0])|[0.09464607879812...|\n",
      "|  39941|  42563|  158282|199812|   100|['139095', '242383']|['139095', '242383']|(202,[7,16],[1.0,...|[0.06281593108290...|\n",
      "| 282454| 155859|  158282|199812|   100|['242383', '20764...|['242383', '20764...|(202,[7,10,24],[1...|[0.04717085408478...|\n",
      "| 112725| 275191|  158282|199812|   100|['242383', '207648']|['242383', '207648']|(202,[7,24],[1.0,...|[0.06283829517653...|\n",
      "| 226816| 275191|  158282|199812|   100|          ['207648']|          ['207648']|    (202,[24],[1.0])|[0.09464607879812...|\n",
      "| 282454| 155859|  158282|199812|   100|['242383', '20764...|['242383', '20764...|(202,[7,10,24],[1...|[0.04717085408478...|\n",
      "| 226816| 275191|  158282|199812|   100|          ['207648']|          ['207648']|    (202,[24],[1.0])|[0.09464607879812...|\n",
      "|  94200| 128069|  158282|199812|   100|['207648', '279143']|['207648', '279143']|(202,[10,24],[1.0...|[0.06312236209542...|\n",
      "|  39941|  42563|  158282|199812|   100|['139095', '242383']|['139095', '242383']|(202,[7,16],[1.0,...|[0.06281593108290...|\n",
      "|   9767| 275191|  158282|199812|   100|          ['207648']|          ['207648']|    (202,[24],[1.0])|[0.09464607879812...|\n",
      "| 282454| 155859|  158282|199812|   100|['242383', '20764...|['242383', '20764...|(202,[7,10,24],[1...|[0.04717085408478...|\n",
      "| 112725| 275191|  158282|199812|   100|['242383', '207648']|['242383', '207648']|(202,[7,24],[1.0,...|[0.06283829517653...|\n",
      "|  39941|  42563|  158282|199812|   100|['139095', '242383']|['139095', '242383']|(202,[7,16],[1.0,...|[0.06281593108290...|\n",
      "|  39941|  42563|  158282|199812|   100|['139095', '242383']|['139095', '242383']|(202,[7,16],[1.0,...|[0.06281593108290...|\n",
      "| 226816| 275191|  158282|199812|   100|          ['207648']|          ['207648']|    (202,[24],[1.0])|[0.09464607879812...|\n",
      "| 222376|  80848|   61215|199813|     0|                  []|                  []|     (202,[0],[1.0])|[0.09460871167530...|\n",
      "+-------+-------+--------+------+------+--------------------+--------------------+--------------------+--------------------+\n",
      "only showing top 100 rows\n",
      "\n",
      "None\n"
     ]
    }
   ],
   "source": [
    "print(genre_scores.printSchema())\n",
    "print(genre_scores.show(100))\n",
    "\n",
    "df = genre_scores\n"
   ]
  },
  {
   "cell_type": "code",
   "execution_count": 4,
   "metadata": {},
   "outputs": [],
   "source": [
    "stages = []\n",
    "numericCols = ['albumId', 'trackId', 'artistId']\n",
    "assemblerInputs = numericCols + ['topicDistribution']\n",
    "assembler = VectorAssembler(\n",
    "    inputCols=assemblerInputs, outputCol=\"features\", handleInvalid=\"skip\")\n",
    "stages += [assembler]\n"
   ]
  },
  {
   "cell_type": "code",
   "execution_count": 5,
   "metadata": {},
   "outputs": [
    {
     "name": "stdout",
     "output_type": "stream",
     "text": [
      "root\n",
      " |-- features: vector (nullable = true)\n",
      " |-- trackId: integer (nullable = true)\n",
      " |-- albumId: integer (nullable = true)\n",
      " |-- artistId: integer (nullable = true)\n",
      " |-- userId: integer (nullable = true)\n",
      " |-- rating: integer (nullable = true)\n",
      " |-- genres: string (nullable = true)\n",
      "\n"
     ]
    }
   ],
   "source": [
    "pipeline = Pipeline(stages=stages)\n",
    "pipelineModel = pipeline.fit(df)\n",
    "df = pipelineModel.transform(df)\n",
    "selectedCols = ['features'] + cols\n",
    "df = df.select(selectedCols)\n",
    "df.printSchema()\n"
   ]
  },
  {
   "cell_type": "code",
   "execution_count": 6,
   "metadata": {},
   "outputs": [
    {
     "data": {
      "text/html": [
       "<div>\n",
       "<style scoped>\n",
       "    .dataframe tbody tr th:only-of-type {\n",
       "        vertical-align: middle;\n",
       "    }\n",
       "\n",
       "    .dataframe tbody tr th {\n",
       "        vertical-align: top;\n",
       "    }\n",
       "\n",
       "    .dataframe thead th {\n",
       "        text-align: right;\n",
       "    }\n",
       "</style>\n",
       "<table border=\"1\" class=\"dataframe\">\n",
       "  <thead>\n",
       "    <tr style=\"text-align: right;\">\n",
       "      <th></th>\n",
       "      <th>0</th>\n",
       "      <th>1</th>\n",
       "      <th>2</th>\n",
       "      <th>3</th>\n",
       "      <th>4</th>\n",
       "    </tr>\n",
       "  </thead>\n",
       "  <tbody>\n",
       "    <tr>\n",
       "      <th>features</th>\n",
       "      <td>[177418.0, 204650.0, 131552.0, 0.0946087116753...</td>\n",
       "      <td>[79500.0, 9774.0, 158282.0, 0.0628382951765337...</td>\n",
       "      <td>[79500.0, 9774.0, 158282.0, 0.0475864076789650...</td>\n",
       "      <td>[153568.0, 26374.0, 158282.0, 0.06282562035546...</td>\n",
       "      <td>[293464.0, 271229.0, 279143.0, 0.4027227286107...</td>\n",
       "    </tr>\n",
       "    <tr>\n",
       "      <th>trackId</th>\n",
       "      <td>204650</td>\n",
       "      <td>9774</td>\n",
       "      <td>9774</td>\n",
       "      <td>26374</td>\n",
       "      <td>271229</td>\n",
       "    </tr>\n",
       "    <tr>\n",
       "      <th>albumId</th>\n",
       "      <td>177418</td>\n",
       "      <td>79500</td>\n",
       "      <td>79500</td>\n",
       "      <td>153568</td>\n",
       "      <td>293464</td>\n",
       "    </tr>\n",
       "    <tr>\n",
       "      <th>artistId</th>\n",
       "      <td>131552</td>\n",
       "      <td>158282</td>\n",
       "      <td>158282</td>\n",
       "      <td>158282</td>\n",
       "      <td>279143</td>\n",
       "    </tr>\n",
       "    <tr>\n",
       "      <th>userId</th>\n",
       "      <td>199810</td>\n",
       "      <td>199810</td>\n",
       "      <td>199810</td>\n",
       "      <td>199810</td>\n",
       "      <td>199811</td>\n",
       "    </tr>\n",
       "    <tr>\n",
       "      <th>rating</th>\n",
       "      <td>50</td>\n",
       "      <td>50</td>\n",
       "      <td>50</td>\n",
       "      <td>50</td>\n",
       "      <td>70</td>\n",
       "    </tr>\n",
       "    <tr>\n",
       "      <th>genres</th>\n",
       "      <td>[]</td>\n",
       "      <td>['242383', '207648']</td>\n",
       "      <td>['242383', '207648', '47898']</td>\n",
       "      <td>['81520', '242383']</td>\n",
       "      <td>['173655', '98154']</td>\n",
       "    </tr>\n",
       "  </tbody>\n",
       "</table>\n",
       "</div>"
      ],
      "text/plain": [
       "                                                          0   \n",
       "features  [177418.0, 204650.0, 131552.0, 0.0946087116753...  \\\n",
       "trackId                                              204650   \n",
       "albumId                                              177418   \n",
       "artistId                                             131552   \n",
       "userId                                               199810   \n",
       "rating                                                   50   \n",
       "genres                                                   []   \n",
       "\n",
       "                                                          1   \n",
       "features  [79500.0, 9774.0, 158282.0, 0.0628382951765337...  \\\n",
       "trackId                                                9774   \n",
       "albumId                                               79500   \n",
       "artistId                                             158282   \n",
       "userId                                               199810   \n",
       "rating                                                   50   \n",
       "genres                                 ['242383', '207648']   \n",
       "\n",
       "                                                          2   \n",
       "features  [79500.0, 9774.0, 158282.0, 0.0475864076789650...  \\\n",
       "trackId                                                9774   \n",
       "albumId                                               79500   \n",
       "artistId                                             158282   \n",
       "userId                                               199810   \n",
       "rating                                                   50   \n",
       "genres                        ['242383', '207648', '47898']   \n",
       "\n",
       "                                                          3   \n",
       "features  [153568.0, 26374.0, 158282.0, 0.06282562035546...  \\\n",
       "trackId                                               26374   \n",
       "albumId                                              153568   \n",
       "artistId                                             158282   \n",
       "userId                                               199810   \n",
       "rating                                                   50   \n",
       "genres                                  ['81520', '242383']   \n",
       "\n",
       "                                                          4  \n",
       "features  [293464.0, 271229.0, 279143.0, 0.4027227286107...  \n",
       "trackId                                              271229  \n",
       "albumId                                              293464  \n",
       "artistId                                             279143  \n",
       "userId                                               199811  \n",
       "rating                                                   70  \n",
       "genres                                  ['173655', '98154']  "
      ]
     },
     "execution_count": 6,
     "metadata": {},
     "output_type": "execute_result"
    }
   ],
   "source": [
    "pd.DataFrame(df.take(5), columns=df.columns).transpose()\n"
   ]
  },
  {
   "cell_type": "code",
   "execution_count": 7,
   "metadata": {},
   "outputs": [
    {
     "name": "stderr",
     "output_type": "stream",
     "text": [
      "                                                                                \r"
     ]
    },
    {
     "name": "stdout",
     "output_type": "stream",
     "text": [
      "Training Dataset Count: 14908520\n"
     ]
    },
    {
     "name": "stderr",
     "output_type": "stream",
     "text": [
      "[Stage 74:===================================================>      (8 + 1) / 9]\r"
     ]
    },
    {
     "name": "stdout",
     "output_type": "stream",
     "text": [
      "Test Dataset Count: 6389279\n"
     ]
    },
    {
     "name": "stderr",
     "output_type": "stream",
     "text": [
      "                                                                                \r"
     ]
    }
   ],
   "source": [
    "train, test = df.randomSplit([0.7, 0.3], seed=2018)\n",
    "print(\"Training Dataset Count: \" + str(train.count()))\n",
    "print(\"Test Dataset Count: \" + str(test.count()))"
   ]
  },
  {
   "cell_type": "code",
   "execution_count": 8,
   "metadata": {},
   "outputs": [
    {
     "name": "stderr",
     "output_type": "stream",
     "text": [
      "                                                                                \r"
     ]
    },
    {
     "name": "stdout",
     "output_type": "stream",
     "text": [
      "Optimal maxIter:  15\n",
      "Optimal regParam:  0.1\n"
     ]
    },
    {
     "name": "stderr",
     "output_type": "stream",
     "text": [
      "                                                                                \r"
     ]
    }
   ],
   "source": [
    "from pyspark.ml.tuning import CrossValidator, ParamGridBuilder\n",
    "from pyspark.ml.evaluation import RegressionEvaluator\n",
    "from pyspark.ml.recommendation import ALS\n",
    "from pyspark.ml.evaluation import BinaryClassificationEvaluator\n",
    "\n",
    "train = train.repartition(50)\n",
    "\n",
    "# Fit the ALS model\n",
    "als = ALS(userCol=\"userId\", itemCol=\"trackId\", ratingCol=\"rating\",\n",
    "          coldStartStrategy=\"nan\", nonnegative=True)\n",
    "\n",
    "# Define the hyperparameter search grid\n",
    "param_grid = ParamGridBuilder() \\\n",
    "    .addGrid(als.maxIter, [15]) \\\n",
    "    .addGrid(als.regParam, [0.1]) \\\n",
    "    .build()\n",
    "\n",
    "# Define the evaluation metric\n",
    "evaluator = RegressionEvaluator(\n",
    "    metricName=\"rmse\", labelCol=\"rating\", predictionCol=\"prediction\")\n",
    "\n",
    "# Define the cross-validator\n",
    "cross_validator = CrossValidator(\n",
    "    estimator=als,\n",
    "    estimatorParamMaps=param_grid,\n",
    "    evaluator=evaluator,\n",
    "    numFolds=3\n",
    ")\n",
    "\n",
    "# Run the hyperparameter search\n",
    "cv_model = cross_validator.fit(train)\n",
    "\n",
    "# Get the best model\n",
    "best_model = cv_model.bestModel\n",
    "\n",
    "# Print the optimal hyperparameters\n",
    "print(\"Optimal maxIter: \", best_model._java_obj.parent().getMaxIter())\n",
    "print(\"Optimal regParam: \", best_model._java_obj.parent().getRegParam())\n"
   ]
  },
  {
   "cell_type": "code",
   "execution_count": 9,
   "metadata": {},
   "outputs": [
    {
     "name": "stderr",
     "output_type": "stream",
     "text": [
      "                                                                                \r"
     ]
    }
   ],
   "source": [
    "# Set the path where you want to save the model\n",
    "model_path = \"../models/ALS\"\n",
    "\n",
    "# Save the trained ALS model to the specified path, overwriting if the file already exists\n",
    "best_model.write().overwrite().save(model_path)\n"
   ]
  },
  {
   "cell_type": "code",
   "execution_count": 10,
   "metadata": {},
   "outputs": [
    {
     "name": "stdout",
     "output_type": "stream",
     "text": [
      "root\n",
      " |-- features: vector (nullable = true)\n",
      " |-- trackId: integer (nullable = true)\n",
      " |-- albumId: integer (nullable = true)\n",
      " |-- artistId: integer (nullable = true)\n",
      " |-- userId: integer (nullable = true)\n",
      " |-- rating: integer (nullable = true)\n",
      " |-- genres: string (nullable = true)\n",
      " |-- prediction: float (nullable = false)\n",
      "\n"
     ]
    }
   ],
   "source": [
    "# Make predictions on the test set\n",
    "predictions = best_model.transform(test)\n",
    "\n",
    "\n",
    "\n",
    "predictions.printSchema()"
   ]
  },
  {
   "cell_type": "code",
   "execution_count": 11,
   "metadata": {},
   "outputs": [
    {
     "name": "stderr",
     "output_type": "stream",
     "text": [
      "[Stage 606:==================================================>      (8 + 1) / 9]\r"
     ]
    },
    {
     "name": "stdout",
     "output_type": "stream",
     "text": [
      "+--------------------+-------+-------+--------+------+------+------+----------+----------------+--------------+\n",
      "|            features|trackId|albumId|artistId|userId|rating|genres|prediction|final_prediction|recommendation|\n",
      "+--------------------+-------+-------+--------+------+------+------+----------+----------------+--------------+\n",
      "|[1068.0,101561.0,...| 101561|   1068|  131552|202641|     0|    []| 12.713423|             0.0|           0.0|\n",
      "|[1842.0,4327.0,13...|   4327|   1842|  131552|199855|    50|    []| 26.405258|             0.0|           1.0|\n",
      "|[2780.0,270330.0,...| 270330|   2780|   88853|200878|     0|    []| 0.7448565|             0.0|           0.0|\n",
      "|[2780.0,270330.0,...| 270330|   2780|   88853|200878|     0|    []| 0.7448565|             0.0|           0.0|\n",
      "|[2780.0,270330.0,...| 270330|   2780|   88853|200878|     0|    []| 0.7448565|             0.0|           0.0|\n",
      "+--------------------+-------+-------+--------+------+------+------+----------+----------------+--------------+\n",
      "only showing top 5 rows\n",
      "\n",
      "root\n",
      " |-- features: vector (nullable = true)\n",
      " |-- trackId: integer (nullable = true)\n",
      " |-- albumId: integer (nullable = true)\n",
      " |-- artistId: integer (nullable = true)\n",
      " |-- userId: integer (nullable = true)\n",
      " |-- rating: integer (nullable = true)\n",
      " |-- genres: string (nullable = true)\n",
      " |-- prediction: float (nullable = false)\n",
      " |-- final_prediction: double (nullable = false)\n",
      " |-- recommendation: double (nullable = true)\n",
      "\n"
     ]
    },
    {
     "name": "stderr",
     "output_type": "stream",
     "text": [
      "                                                                                \r"
     ]
    }
   ],
   "source": [
    "# Convert the predicted ratings to binary values (0 or 1) based on a threshold\n",
    "threshold = 50\n",
    "predictions = predictions.withColumn(\n",
    "    \"final_prediction\", (predictions[\"prediction\"] >= threshold).cast(\"double\"))\n",
    "\n",
    "predictions = predictions.withColumn(\n",
    "    \"recommendation\", (predictions[\"rating\"] >= threshold).cast(\"double\"))\n",
    "    \n",
    "predictions.show(5)\n",
    "\n",
    "predictions.printSchema()\n"
   ]
  },
  {
   "cell_type": "code",
   "execution_count": 12,
   "metadata": {},
   "outputs": [
    {
     "name": "stderr",
     "output_type": "stream",
     "text": [
      "[Stage 726:=================================================>       (7 + 1) / 8]\r"
     ]
    },
    {
     "name": "stdout",
     "output_type": "stream",
     "text": [
      "Area under ROC curve: 0.8495\n"
     ]
    },
    {
     "name": "stderr",
     "output_type": "stream",
     "text": [
      "                                                                                \r"
     ]
    }
   ],
   "source": [
    "# Evaluate the model using the area under the ROC curve\n",
    "evaluator = BinaryClassificationEvaluator(\n",
    "    rawPredictionCol=\"final_prediction\", labelCol=\"recommendation\", metricName=\"areaUnderROC\")\n",
    "area_under_roc = evaluator.evaluate(predictions)\n",
    "print(f\"Area under ROC curve: {area_under_roc:.4f}\")"
   ]
  }
 ],
 "metadata": {
  "interpreter": {
   "hash": "916dbcbb3f70747c44a77c7bcd40155683ae19c65e1c03b4aa3499c5328201f1"
  },
  "kernelspec": {
   "display_name": "Python 3.8.10 64-bit",
   "language": "python",
   "name": "python3"
  },
  "language_info": {
   "codemirror_mode": {
    "name": "ipython",
    "version": 3
   },
   "file_extension": ".py",
   "mimetype": "text/x-python",
   "name": "python",
   "nbconvert_exporter": "python",
   "pygments_lexer": "ipython3",
   "version": "3.8.10"
  },
  "orig_nbformat": 4
 },
 "nbformat": 4,
 "nbformat_minor": 2
}
